{
  "nbformat": 4,
  "nbformat_minor": 0,
  "metadata": {
    "colab": {
      "provenance": [],
      "authorship_tag": "ABX9TyPfN4U1x5M3Gyd4hUqge+fN",
      "include_colab_link": true
    },
    "kernelspec": {
      "name": "python3",
      "display_name": "Python 3"
    },
    "language_info": {
      "name": "python"
    }
  },
  "cells": [
    {
      "cell_type": "markdown",
      "metadata": {
        "id": "view-in-github",
        "colab_type": "text"
      },
      "source": [
        "<a href=\"https://colab.research.google.com/github/Sehastrajit-clg/Machine_Learning/blob/main/intro_to_pytorch.ipynb\" target=\"_parent\"><img src=\"https://colab.research.google.com/assets/colab-badge.svg\" alt=\"Open In Colab\"/></a>"
      ]
    },
    {
      "cell_type": "markdown",
      "source": [
        "**Basic operations using Pytorch**"
      ],
      "metadata": {
        "id": "1a4_LM0lASnJ"
      }
    },
    {
      "cell_type": "code",
      "execution_count": 1,
      "metadata": {
        "id": "Xc3o4qwfAFX7"
      },
      "outputs": [],
      "source": [
        "import torch as t\n",
        "import numpy as np"
      ]
    },
    {
      "cell_type": "code",
      "source": [
        "data=[[1,2],[3,4]]\n",
        "x_data=t.tensor(data)"
      ],
      "metadata": {
        "id": "JuJNYG9BAbW2"
      },
      "execution_count": 2,
      "outputs": []
    },
    {
      "cell_type": "markdown",
      "source": [
        "**From NumPy array**"
      ],
      "metadata": {
        "id": "TeSv9ycfA1rf"
      }
    },
    {
      "cell_type": "code",
      "source": [
        "np_array=np.array(data)\n",
        "x_np=t.from_numpy(np_array)\n",
        "x_np"
      ],
      "metadata": {
        "colab": {
          "base_uri": "https://localhost:8080/"
        },
        "id": "6wOaa2Y-A2PX",
        "outputId": "44f38287-4a6d-4c0e-8c8c-b1dd3ba191c9"
      },
      "execution_count": 3,
      "outputs": [
        {
          "output_type": "execute_result",
          "data": {
            "text/plain": [
              "tensor([[1, 2],\n",
              "        [3, 4]])"
            ]
          },
          "metadata": {},
          "execution_count": 3
        }
      ]
    },
    {
      "cell_type": "markdown",
      "source": [
        "**Ones Tensor**"
      ],
      "metadata": {
        "id": "vwF5oI0JBi6W"
      }
    },
    {
      "cell_type": "code",
      "source": [
        "type(x_np)"
      ],
      "metadata": {
        "colab": {
          "base_uri": "https://localhost:8080/"
        },
        "id": "slFQQ_TKBbmG",
        "outputId": "5e748e12-dd9d-450a-f7fd-4599bb99b5f8"
      },
      "execution_count": 4,
      "outputs": [
        {
          "output_type": "execute_result",
          "data": {
            "text/plain": [
              "torch.Tensor"
            ]
          },
          "metadata": {},
          "execution_count": 4
        }
      ]
    },
    {
      "cell_type": "code",
      "source": [
        "x_ones=t.ones_like(x_data)\n",
        "x_ones"
      ],
      "metadata": {
        "colab": {
          "base_uri": "https://localhost:8080/"
        },
        "id": "6ZmDmRCQBdeP",
        "outputId": "4a5724b6-3558-47ba-f000-bf5d6a1fab7e"
      },
      "execution_count": 5,
      "outputs": [
        {
          "output_type": "execute_result",
          "data": {
            "text/plain": [
              "tensor([[1, 1],\n",
              "        [1, 1]])"
            ]
          },
          "metadata": {},
          "execution_count": 5
        }
      ]
    },
    {
      "cell_type": "markdown",
      "source": [
        "**Random Tensor**"
      ],
      "metadata": {
        "id": "31KEUwbZCjxs"
      }
    },
    {
      "cell_type": "code",
      "source": [
        "x_rand=t.rand_like(x_data,dtype=t.float)\n",
        "x_rand"
      ],
      "metadata": {
        "colab": {
          "base_uri": "https://localhost:8080/"
        },
        "id": "ARj__dmaCm37",
        "outputId": "f6c68d7a-6056-40ae-a767-6468b979cae4"
      },
      "execution_count": 6,
      "outputs": [
        {
          "output_type": "execute_result",
          "data": {
            "text/plain": [
              "tensor([[0.6949, 0.0077],\n",
              "        [0.4198, 0.2433]])"
            ]
          },
          "metadata": {},
          "execution_count": 6
        }
      ]
    },
    {
      "cell_type": "markdown",
      "source": [
        "**Attributes of a tensor-shape,data type and the device on which they are stored**"
      ],
      "metadata": {
        "id": "hy0XCLnxCsHj"
      }
    },
    {
      "cell_type": "code",
      "source": [
        "tensor=t.rand(3,4)\n",
        "print(tensor.shape)\n",
        "print(tensor.dtype)\n",
        "print(tensor.device)"
      ],
      "metadata": {
        "colab": {
          "base_uri": "https://localhost:8080/"
        },
        "id": "YtyNjhA_C2Tr",
        "outputId": "41773a09-f5da-4b8f-932a-c058bbee41cb"
      },
      "execution_count": 7,
      "outputs": [
        {
          "output_type": "stream",
          "name": "stdout",
          "text": [
            "torch.Size([3, 4])\n",
            "torch.float32\n",
            "cpu\n"
          ]
        }
      ]
    },
    {
      "cell_type": "markdown",
      "source": [
        "**From CPU to GPU**"
      ],
      "metadata": {
        "id": "NoeEwon1DE3S"
      }
    },
    {
      "cell_type": "code",
      "source": [],
      "metadata": {
        "id": "Oiu7syg7DWz5"
      },
      "execution_count": null,
      "outputs": []
    }
  ]
}