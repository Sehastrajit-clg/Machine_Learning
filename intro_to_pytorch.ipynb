{
  "nbformat": 4,
  "nbformat_minor": 0,
  "metadata": {
    "colab": {
      "provenance": [],
      "authorship_tag": "ABX9TyOW6/R7cAWfHf3BW2jG4d1K",
      "include_colab_link": true
    },
    "kernelspec": {
      "name": "python3",
      "display_name": "Python 3"
    },
    "language_info": {
      "name": "python"
    }
  },
  "cells": [
    {
      "cell_type": "markdown",
      "metadata": {
        "id": "view-in-github",
        "colab_type": "text"
      },
      "source": [
        "<a href=\"https://colab.research.google.com/github/Sehastrajit-clg/Machine_Learning/blob/main/intro_to_pytorch.ipynb\" target=\"_parent\"><img src=\"https://colab.research.google.com/assets/colab-badge.svg\" alt=\"Open In Colab\"/></a>"
      ]
    },
    {
      "cell_type": "markdown",
      "source": [
        "**Basic operations using Pytorch**"
      ],
      "metadata": {
        "id": "1a4_LM0lASnJ"
      }
    },
    {
      "cell_type": "code",
      "execution_count": 1,
      "metadata": {
        "id": "Xc3o4qwfAFX7"
      },
      "outputs": [],
      "source": [
        "import torch as t\n",
        "import numpy as np"
      ]
    },
    {
      "cell_type": "code",
      "source": [
        "data=[[1,2],[3,4]]\n",
        "x_data=t.tensor(data)"
      ],
      "metadata": {
        "id": "JuJNYG9BAbW2"
      },
      "execution_count": 2,
      "outputs": []
    },
    {
      "cell_type": "markdown",
      "source": [
        "**From NumPy array**"
      ],
      "metadata": {
        "id": "TeSv9ycfA1rf"
      }
    },
    {
      "cell_type": "code",
      "source": [
        "np_array=np.array(data)\n",
        "x_np=t.from_numpy(np_array)\n",
        "x_np"
      ],
      "metadata": {
        "colab": {
          "base_uri": "https://localhost:8080/"
        },
        "id": "6wOaa2Y-A2PX",
        "outputId": "44f38287-4a6d-4c0e-8c8c-b1dd3ba191c9"
      },
      "execution_count": 3,
      "outputs": [
        {
          "output_type": "execute_result",
          "data": {
            "text/plain": [
              "tensor([[1, 2],\n",
              "        [3, 4]])"
            ]
          },
          "metadata": {},
          "execution_count": 3
        }
      ]
    },
    {
      "cell_type": "markdown",
      "source": [
        "**Ones Tensor**"
      ],
      "metadata": {
        "id": "vwF5oI0JBi6W"
      }
    },
    {
      "cell_type": "code",
      "source": [
        "type(x_np)"
      ],
      "metadata": {
        "colab": {
          "base_uri": "https://localhost:8080/"
        },
        "id": "slFQQ_TKBbmG",
        "outputId": "5e748e12-dd9d-450a-f7fd-4599bb99b5f8"
      },
      "execution_count": 4,
      "outputs": [
        {
          "output_type": "execute_result",
          "data": {
            "text/plain": [
              "torch.Tensor"
            ]
          },
          "metadata": {},
          "execution_count": 4
        }
      ]
    },
    {
      "cell_type": "code",
      "source": [
        "x_ones=t.ones_like(x_data)\n",
        "x_ones"
      ],
      "metadata": {
        "colab": {
          "base_uri": "https://localhost:8080/"
        },
        "id": "6ZmDmRCQBdeP",
        "outputId": "4a5724b6-3558-47ba-f000-bf5d6a1fab7e"
      },
      "execution_count": 5,
      "outputs": [
        {
          "output_type": "execute_result",
          "data": {
            "text/plain": [
              "tensor([[1, 1],\n",
              "        [1, 1]])"
            ]
          },
          "metadata": {},
          "execution_count": 5
        }
      ]
    },
    {
      "cell_type": "markdown",
      "source": [
        "**Random Tensor**"
      ],
      "metadata": {
        "id": "31KEUwbZCjxs"
      }
    },
    {
      "cell_type": "code",
      "source": [
        "x_rand=t.rand_like(x_data,dtype=t.float)\n",
        "x_rand"
      ],
      "metadata": {
        "colab": {
          "base_uri": "https://localhost:8080/"
        },
        "id": "ARj__dmaCm37",
        "outputId": "f6c68d7a-6056-40ae-a767-6468b979cae4"
      },
      "execution_count": 6,
      "outputs": [
        {
          "output_type": "execute_result",
          "data": {
            "text/plain": [
              "tensor([[0.6949, 0.0077],\n",
              "        [0.4198, 0.2433]])"
            ]
          },
          "metadata": {},
          "execution_count": 6
        }
      ]
    },
    {
      "cell_type": "markdown",
      "source": [
        "**Attributes of a tensor-shape,data type and the device on which they are stored**"
      ],
      "metadata": {
        "id": "hy0XCLnxCsHj"
      }
    },
    {
      "cell_type": "code",
      "source": [
        "tensor=t.rand(3,4)\n",
        "print(\"Shape of tensor\",tensor.shape)\n",
        "print(\"Datatype of the tensor \",tensor.dtype)\n",
        "print(\"Device tensor is stored on\",tensor.device)"
      ],
      "metadata": {
        "colab": {
          "base_uri": "https://localhost:8080/"
        },
        "id": "YtyNjhA_C2Tr",
        "outputId": "77184ab5-a262-4482-b402-ed6e4a31aa98"
      },
      "execution_count": 8,
      "outputs": [
        {
          "output_type": "stream",
          "name": "stdout",
          "text": [
            "Shape of tensor torch.Size([3, 4])\n",
            "Datatype of the tensor  torch.float32\n",
            "Device tensor is stored on cpu\n"
          ]
        }
      ]
    },
    {
      "cell_type": "markdown",
      "source": [
        "**From CPU to GPU**"
      ],
      "metadata": {
        "id": "NoeEwon1DE3S"
      }
    },
    {
      "cell_type": "code",
      "source": [
        "if t.cuda.is_available():\n",
        "  tensor=tensor.to(\"cuda\")\n",
        "print(\"Now tensor is stored on:\",t.device)"
      ],
      "metadata": {
        "colab": {
          "base_uri": "https://localhost:8080/"
        },
        "id": "Oiu7syg7DWz5",
        "outputId": "68c5a5cb-6468-41a9-80cd-06fe0aea351d"
      },
      "execution_count": 9,
      "outputs": [
        {
          "output_type": "stream",
          "name": "stdout",
          "text": [
            "Now tensor is stored on: <class 'torch.device'>\n"
          ]
        }
      ]
    },
    {
      "cell_type": "markdown",
      "source": [
        "**Indexing and slici**ng"
      ],
      "metadata": {
        "id": "I-CbwVS6D0q4"
      }
    },
    {
      "cell_type": "code",
      "source": [
        "tensor = t.rand_like(x_data,dtype= t.float)\n",
        "tensor"
      ],
      "metadata": {
        "colab": {
          "base_uri": "https://localhost:8080/"
        },
        "id": "t5AXTed9FQFo",
        "outputId": "9be5a5fb-f1ad-4f22-afb7-5a7a67a040e7"
      },
      "execution_count": 11,
      "outputs": [
        {
          "output_type": "execute_result",
          "data": {
            "text/plain": [
              "tensor([[0.4347, 0.9894],\n",
              "        [0.4452, 0.2366]])"
            ]
          },
          "metadata": {},
          "execution_count": 11
        }
      ]
    },
    {
      "cell_type": "code",
      "source": [
        "print(\"First row:\",tensor[0])\n",
        "print(\"Last Column: \",tensor[...,-1])"
      ],
      "metadata": {
        "colab": {
          "base_uri": "https://localhost:8080/"
        },
        "id": "xZTAX_-FDmB-",
        "outputId": "36251b06-54eb-47c6-bfb5-065a0485c386"
      },
      "execution_count": 12,
      "outputs": [
        {
          "output_type": "stream",
          "name": "stdout",
          "text": [
            "First row: tensor([0.4347, 0.9894])\n",
            "Last Column:  tensor([0.9894, 0.2366])\n"
          ]
        }
      ]
    },
    {
      "cell_type": "markdown",
      "source": [
        "1.Given the values (1,2,3,4),(4,5,6,7),(7,8,9,10). Find the first column , lastrow and create a 3*3 matrix considering only the first three columns."
      ],
      "metadata": {
        "id": "ouy92TYWFqKf"
      }
    },
    {
      "cell_type": "markdown",
      "source": [
        "**Concatenation**"
      ],
      "metadata": {
        "id": "QxKG4NSaFVb-"
      }
    },
    {
      "cell_type": "code",
      "source": [
        "concat=t.cat([x_data,x_data],dim=1)\n",
        "concat"
      ],
      "metadata": {
        "colab": {
          "base_uri": "https://localhost:8080/"
        },
        "id": "9LLllxUPGqh5",
        "outputId": "25511276-c6ad-46f6-c3e6-f4dee9f2cb8e"
      },
      "execution_count": 17,
      "outputs": [
        {
          "output_type": "execute_result",
          "data": {
            "text/plain": [
              "tensor([[1, 2, 1, 2],\n",
              "        [3, 4, 3, 4]])"
            ]
          },
          "metadata": {},
          "execution_count": 17
        }
      ]
    },
    {
      "cell_type": "code",
      "source": [
        "concat=t.cat([x_data,x_data],dim=0)\n",
        "concat"
      ],
      "metadata": {
        "colab": {
          "base_uri": "https://localhost:8080/"
        },
        "id": "D65SropKGi8i",
        "outputId": "714985a9-3038-46b6-fc5a-e90ce42f9c98"
      },
      "execution_count": 16,
      "outputs": [
        {
          "output_type": "execute_result",
          "data": {
            "text/plain": [
              "tensor([[1, 2],\n",
              "        [3, 4],\n",
              "        [1, 2],\n",
              "        [3, 4]])"
            ]
          },
          "metadata": {},
          "execution_count": 16
        }
      ]
    },
    {
      "cell_type": "markdown",
      "source": [
        "**Arithematic operations**"
      ],
      "metadata": {
        "id": "kgu9xW1cF8r2"
      }
    },
    {
      "cell_type": "code",
      "source": [],
      "metadata": {
        "id": "PPzeXo2cHRWB"
      },
      "execution_count": null,
      "outputs": []
    },
    {
      "cell_type": "markdown",
      "source": [
        "**Matrix multiplication**"
      ],
      "metadata": {
        "id": "ipfmFWJfGw75"
      }
    }
  ]
}