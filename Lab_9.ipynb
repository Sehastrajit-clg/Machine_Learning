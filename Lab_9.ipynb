{
  "nbformat": 4,
  "nbformat_minor": 0,
  "metadata": {
    "colab": {
      "provenance": []
    },
    "kernelspec": {
      "name": "python3",
      "display_name": "Python 3"
    },
    "language_info": {
      "name": "python"
    }
  },
  "cells": [
    {
      "cell_type": "code",
      "execution_count": 2,
      "metadata": {
        "id": "Fk49gbwOwknE",
        "colab": {
          "base_uri": "https://localhost:8080/"
        },
        "outputId": "b0f1207e-4d90-44d2-f69b-7bf58f53fbd8"
      },
      "outputs": [
        {
          "output_type": "stream",
          "name": "stdout",
          "text": [
            "Mounted at /content/gdrive\n"
          ]
        }
      ],
      "source": [
        "from google.colab import drive\n",
        "drive.mount('/content/gdrive')"
      ]
    },
    {
      "cell_type": "code",
      "source": [
        "cd /content/gdrive/My Drive/Colab Notebooks"
      ],
      "metadata": {
        "colab": {
          "base_uri": "https://localhost:8080/"
        },
        "id": "YUrglLZ20Ya6",
        "outputId": "fa3373c4-ca10-4bb9-bf74-ff54b7e5c96a"
      },
      "execution_count": 3,
      "outputs": [
        {
          "output_type": "stream",
          "name": "stdout",
          "text": [
            "/content/gdrive/My Drive/Colab Notebooks\n"
          ]
        }
      ]
    },
    {
      "cell_type": "code",
      "source": [
        "import pandas as pd\n",
        "import numpy as np\n"
      ],
      "metadata": {
        "id": "mFqLtCfe0XRD"
      },
      "execution_count": 14,
      "outputs": []
    },
    {
      "cell_type": "markdown",
      "source": [
        "Q1. Implement a perceptron model to realize AND gate. Start with the weights as [0.5, 0.5]. Update the weights using perceptron learning algorithm. Print the model parameters after every epoch. Use suitable learning rate."
      ],
      "metadata": {
        "id": "dOXGm5bFCWYR"
      }
    },
    {
      "cell_type": "code",
      "source": [
        "inputs=[[0,0],[0,1],[1,0],[1,1]]\n",
        "output=[0,0,0,1]\n",
        "weights=[[0.5,0.5]]\n",
        "threshold=1.5\n",
        "lrate=0.1"
      ],
      "metadata": {
        "id": "2yEikr2G9iEm"
      },
      "execution_count": 22,
      "outputs": []
    },
    {
      "cell_type": "code",
      "source": [
        "import numpy as np\n",
        "\n",
        "weights = np.array([0.5, 0.5])\n",
        "learning_rate = 0.1\n",
        "\n",
        "def activation(x):\n",
        "    return 1 if x >= 0 else 0\n",
        "\n",
        "input_data = np.array([[0, 0], [0, 1], [1, 0], [1, 1]])\n",
        "labels = np.array([0, 0, 0, 1])\n",
        "\n",
        "epochs = 10\n",
        "\n",
        "for epoch in range(epochs):\n",
        "    print(\"Epoch\", epoch)\n",
        "    for i in range(input_data.shape[0]):\n",
        "        # Compute the weighted sum\n",
        "        weighted_sum = np.dot(weights, input_data[i])\n",
        "\n",
        "        # Apply the activation function\n",
        "        prediction = activation(weighted_sum)\n",
        "\n",
        "        # Update the weights\n",
        "        delta = learning_rate * (labels[i] - prediction)\n",
        "        weights += delta * input_data[i]\n",
        "\n",
        "        print(\"  Weights:\", weights)"
      ],
      "metadata": {
        "colab": {
          "base_uri": "https://localhost:8080/"
        },
        "id": "KJ-sTHL8BzGi",
        "outputId": "80becb67-4c72-44d3-9d7d-f1535d72d020"
      },
      "execution_count": 21,
      "outputs": [
        {
          "output_type": "stream",
          "name": "stdout",
          "text": [
            "Epoch 0\n",
            "  Weights: [0.5 0.5]\n",
            "  Weights: [0.5 0.4]\n",
            "  Weights: [0.4 0.4]\n",
            "  Weights: [0.4 0.4]\n",
            "Epoch 1\n",
            "  Weights: [0.4 0.4]\n",
            "  Weights: [0.4 0.3]\n",
            "  Weights: [0.3 0.3]\n",
            "  Weights: [0.3 0.3]\n",
            "Epoch 2\n",
            "  Weights: [0.3 0.3]\n",
            "  Weights: [0.3 0.2]\n",
            "  Weights: [0.2 0.2]\n",
            "  Weights: [0.2 0.2]\n",
            "Epoch 3\n",
            "  Weights: [0.2 0.2]\n",
            "  Weights: [0.2 0.1]\n",
            "  Weights: [0.1 0.1]\n",
            "  Weights: [0.1 0.1]\n",
            "Epoch 4\n",
            "  Weights: [0.1 0.1]\n",
            "  Weights: [1.00000000e-01 2.77555756e-17]\n",
            "  Weights: [2.77555756e-17 2.77555756e-17]\n",
            "  Weights: [2.77555756e-17 2.77555756e-17]\n",
            "Epoch 5\n",
            "  Weights: [2.77555756e-17 2.77555756e-17]\n",
            "  Weights: [ 2.77555756e-17 -1.00000000e-01]\n",
            "  Weights: [-0.1 -0.1]\n",
            "  Weights: [2.77555756e-17 2.77555756e-17]\n",
            "Epoch 6\n",
            "  Weights: [2.77555756e-17 2.77555756e-17]\n",
            "  Weights: [ 2.77555756e-17 -1.00000000e-01]\n",
            "  Weights: [-0.1 -0.1]\n",
            "  Weights: [2.77555756e-17 2.77555756e-17]\n",
            "Epoch 7\n",
            "  Weights: [2.77555756e-17 2.77555756e-17]\n",
            "  Weights: [ 2.77555756e-17 -1.00000000e-01]\n",
            "  Weights: [-0.1 -0.1]\n",
            "  Weights: [2.77555756e-17 2.77555756e-17]\n",
            "Epoch 8\n",
            "  Weights: [2.77555756e-17 2.77555756e-17]\n",
            "  Weights: [ 2.77555756e-17 -1.00000000e-01]\n",
            "  Weights: [-0.1 -0.1]\n",
            "  Weights: [2.77555756e-17 2.77555756e-17]\n",
            "Epoch 9\n",
            "  Weights: [2.77555756e-17 2.77555756e-17]\n",
            "  Weights: [ 2.77555756e-17 -1.00000000e-01]\n",
            "  Weights: [-0.1 -0.1]\n",
            "  Weights: [2.77555756e-17 2.77555756e-17]\n"
          ]
        }
      ]
    },
    {
      "cell_type": "code",
      "source": [
        "\n",
        "for i in range(0,len(inputs)):\n",
        "  x1=inputs[i][0]\n",
        "  x2=inputs[i][1]\n",
        "  sum=sum + x1*w1 +x2*w2- b\n",
        "  if sum>threshold:\n",
        "    print(\"Reached\")\n",
        "    break\n"
      ],
      "metadata": {
        "id": "VdG3xLvG3eU5",
        "colab": {
          "base_uri": "https://localhost:8080/"
        },
        "outputId": "44c62c18-e301-44b3-a457-a85536bedd41"
      },
      "execution_count": 9,
      "outputs": [
        {
          "output_type": "stream",
          "name": "stdout",
          "text": [
            "Reached\n"
          ]
        }
      ]
    },
    {
      "cell_type": "markdown",
      "source": [
        "Q2. Design a perceptron network to classify Iris plants into three species. Need to draw the network architecture and upload it in LMS along with python notebook. Implement the same with Sklearn library (MLP classifier). Fine tune the hyper parameters to get maximum accuracy."
      ],
      "metadata": {
        "id": "aTZLSw88Akgy"
      }
    },
    {
      "cell_type": "code",
      "source": [
        "from sklearn.neural_network import MLPClassifier\n",
        "from sklearn.datasets import load_iris\n",
        "from sklearn.model_selection import train_test_split\n",
        "from sklearn.metrics import accuracy_score"
      ],
      "metadata": {
        "id": "ODyxS6sJAkSj"
      },
      "execution_count": 10,
      "outputs": []
    },
    {
      "cell_type": "code",
      "source": [
        "iris = load_iris()\n",
        "X = iris.data\n",
        "y = iris.target"
      ],
      "metadata": {
        "id": "5moUDjm9Aqqq"
      },
      "execution_count": 17,
      "outputs": []
    },
    {
      "cell_type": "code",
      "source": [
        "X_train, X_test, y_train, y_test = train_test_split(X, y, test_size=0.2, random_state=42)"
      ],
      "metadata": {
        "id": "fnpJI6qcAwAS"
      },
      "execution_count": 12,
      "outputs": []
    },
    {
      "cell_type": "code",
      "source": [
        "mlp = MLPClassifier(hidden_layer_sizes=(10,), activation='relu', solver='adam', max_iter=1000)\n",
        "mlp.fit(X_train, y_train)\n",
        "predictions = mlp.predict(X_test)\n",
        "accuracy = accuracy_score(y_test, predictions)\n",
        "print(\"Accuracy:\", accuracy)"
      ],
      "metadata": {
        "colab": {
          "base_uri": "https://localhost:8080/"
        },
        "id": "h3V87sgcAyHi",
        "outputId": "cc29afaa-ff15-4f4b-fd8c-ccc9c8b7e5e4"
      },
      "execution_count": 19,
      "outputs": [
        {
          "output_type": "stream",
          "name": "stdout",
          "text": [
            "Accuracy: 1.0\n"
          ]
        },
        {
          "output_type": "stream",
          "name": "stderr",
          "text": [
            "/usr/local/lib/python3.10/dist-packages/sklearn/neural_network/_multilayer_perceptron.py:686: ConvergenceWarning: Stochastic Optimizer: Maximum iterations (1000) reached and the optimization hasn't converged yet.\n",
            "  warnings.warn(\n"
          ]
        }
      ]
    }
  ]
}