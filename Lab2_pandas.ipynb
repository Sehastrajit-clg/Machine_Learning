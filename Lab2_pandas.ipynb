{
  "cells": [
    {
      "cell_type": "markdown",
      "metadata": {
        "id": "_VcEQiq0unSt"
      },
      "source": [
        "# **Exploratory Data Analysis (EDA)**\n",
        "*   Load a dataset\n",
        "*   statistical summaries\n",
        "*   data visualization\n",
        "\n",
        "\n",
        "\n",
        "\n"
      ]
    },
    {
      "cell_type": "markdown",
      "metadata": {
        "id": "YTQCoBTDvtR8"
      },
      "source": [
        "# Python Libraries for EDA\n",
        "\n",
        "* numpy\n",
        "* pandas\n",
        "* matplotlib\n",
        "\n",
        "\n",
        "\n"
      ]
    },
    {
      "cell_type": "markdown",
      "metadata": {
        "id": "wHgLKC50wZlV"
      },
      "source": [
        "# Pandas\n",
        "pandas is a software library written for the Python programming language for data manipulation and analysis. In particular, it offers data structures and operations for manipulating numerical tables and time series."
      ]
    },
    {
      "cell_type": "markdown",
      "metadata": {
        "id": "TPrZXHYHw-g9"
      },
      "source": [
        "# Dataframe\n",
        "A dataframe represents a rectangular table of data and contains an ordered collection of columns, each of which can be a different value type. A dataframe has both a row and column index and can be thought of as a dict of Series, all sharing the same index. A column in a dataframe can be retrieved as a Series. The columns of the resulting DataFrame have different dtypes."
      ]
    },
    {
      "cell_type": "code",
      "execution_count": null,
      "metadata": {
        "id": "esz9RKC0NTgO"
      },
      "outputs": [],
      "source": [
        "import pandas as pd"
      ]
    },
    {
      "cell_type": "markdown",
      "metadata": {
        "id": "JbUTcp5NNYYo"
      },
      "source": [
        "List to series "
      ]
    },
    {
      "cell_type": "code",
      "execution_count": null,
      "metadata": {
        "colab": {
          "base_uri": "https://localhost:8080/"
        },
        "id": "YIuKNQLSNiFa",
        "outputId": "f03e72d4-1c7a-4065-88e8-f7cb3aac0ba1"
      },
      "outputs": [
        {
          "name": "stdout",
          "output_type": "stream",
          "text": [
            "0     1\n",
            "1     4\n",
            "2    15\n",
            "3    16\n",
            "4     9\n",
            "dtype: int64\n"
          ]
        }
      ],
      "source": [
        "list1 = [1, 4, 15, 16, 9]\n",
        "\n",
        "series = pd.Series(list1)\n",
        "\n",
        "print(series)"
      ]
    },
    {
      "cell_type": "code",
      "execution_count": null,
      "metadata": {
        "colab": {
          "base_uri": "https://localhost:8080/"
        },
        "id": "s2vFrgRMN0wx",
        "outputId": "8be6510f-2e3b-4402-de80-90946282376c"
      },
      "outputs": [
        {
          "name": "stdout",
          "output_type": "stream",
          "text": [
            "0   -0.105354\n",
            "1    0.992752\n",
            "2    0.431407\n",
            "3   -2.643363\n",
            "4   -0.681407\n",
            "5    1.627635\n",
            "6    0.907804\n",
            "7    1.002031\n",
            "8   -0.129924\n",
            "9    0.452642\n",
            "dtype: float64\n"
          ]
        }
      ],
      "source": [
        "import numpy as np\n",
        "d_series = pd.Series(np.random.randn(10))\n",
        "print(d_series)"
      ]
    },
    {
      "cell_type": "code",
      "execution_count": null,
      "metadata": {
        "colab": {
          "base_uri": "https://localhost:8080/"
        },
        "id": "isOx6ONDOQ9D",
        "outputId": "ec5dc27f-6197-4e5f-8142-b0753464c364"
      },
      "outputs": [
        {
          "data": {
            "text/plain": [
              "<bound method NDFrame.head of 0   -0.105354\n",
              "1    0.992752\n",
              "2    0.431407\n",
              "3   -2.643363\n",
              "4   -0.681407\n",
              "5    1.627635\n",
              "6    0.907804\n",
              "7    1.002031\n",
              "8   -0.129924\n",
              "9    0.452642\n",
              "dtype: float64>"
            ]
          },
          "execution_count": 9,
          "metadata": {},
          "output_type": "execute_result"
        }
      ],
      "source": [
        "d_series.head"
      ]
    },
    {
      "cell_type": "code",
      "execution_count": null,
      "metadata": {
        "colab": {
          "base_uri": "https://localhost:8080/",
          "height": 143
        },
        "id": "0ZBTlJ2fOihH",
        "outputId": "b729df5c-cb2c-488e-9e7c-5dcf3bb67cfa"
      },
      "outputs": [
        {
          "data": {
            "text/html": [
              "\n",
              "  <div id=\"df-e2ea4c73-3738-4a01-b044-07bab2166429\">\n",
              "    <div class=\"colab-df-container\">\n",
              "      <div>\n",
              "<style scoped>\n",
              "    .dataframe tbody tr th:only-of-type {\n",
              "        vertical-align: middle;\n",
              "    }\n",
              "\n",
              "    .dataframe tbody tr th {\n",
              "        vertical-align: top;\n",
              "    }\n",
              "\n",
              "    .dataframe thead th {\n",
              "        text-align: right;\n",
              "    }\n",
              "</style>\n",
              "<table border=\"1\" class=\"dataframe\">\n",
              "  <thead>\n",
              "    <tr style=\"text-align: right;\">\n",
              "      <th></th>\n",
              "      <th>0</th>\n",
              "      <th>1</th>\n",
              "      <th>2</th>\n",
              "      <th>3</th>\n",
              "    </tr>\n",
              "  </thead>\n",
              "  <tbody>\n",
              "    <tr>\n",
              "      <th>0</th>\n",
              "      <td>37</td>\n",
              "      <td>73</td>\n",
              "      <td>25</td>\n",
              "      <td>87</td>\n",
              "    </tr>\n",
              "    <tr>\n",
              "      <th>1</th>\n",
              "      <td>56</td>\n",
              "      <td>24</td>\n",
              "      <td>7</td>\n",
              "      <td>27</td>\n",
              "    </tr>\n",
              "    <tr>\n",
              "      <th>2</th>\n",
              "      <td>59</td>\n",
              "      <td>32</td>\n",
              "      <td>28</td>\n",
              "      <td>38</td>\n",
              "    </tr>\n",
              "  </tbody>\n",
              "</table>\n",
              "</div>\n",
              "      <button class=\"colab-df-convert\" onclick=\"convertToInteractive('df-e2ea4c73-3738-4a01-b044-07bab2166429')\"\n",
              "              title=\"Convert this dataframe to an interactive table.\"\n",
              "              style=\"display:none;\">\n",
              "        \n",
              "  <svg xmlns=\"http://www.w3.org/2000/svg\" height=\"24px\"viewBox=\"0 0 24 24\"\n",
              "       width=\"24px\">\n",
              "    <path d=\"M0 0h24v24H0V0z\" fill=\"none\"/>\n",
              "    <path d=\"M18.56 5.44l.94 2.06.94-2.06 2.06-.94-2.06-.94-.94-2.06-.94 2.06-2.06.94zm-11 1L8.5 8.5l.94-2.06 2.06-.94-2.06-.94L8.5 2.5l-.94 2.06-2.06.94zm10 10l.94 2.06.94-2.06 2.06-.94-2.06-.94-.94-2.06-.94 2.06-2.06.94z\"/><path d=\"M17.41 7.96l-1.37-1.37c-.4-.4-.92-.59-1.43-.59-.52 0-1.04.2-1.43.59L10.3 9.45l-7.72 7.72c-.78.78-.78 2.05 0 2.83L4 21.41c.39.39.9.59 1.41.59.51 0 1.02-.2 1.41-.59l7.78-7.78 2.81-2.81c.8-.78.8-2.07 0-2.86zM5.41 20L4 18.59l7.72-7.72 1.47 1.35L5.41 20z\"/>\n",
              "  </svg>\n",
              "      </button>\n",
              "      \n",
              "  <style>\n",
              "    .colab-df-container {\n",
              "      display:flex;\n",
              "      flex-wrap:wrap;\n",
              "      gap: 12px;\n",
              "    }\n",
              "\n",
              "    .colab-df-convert {\n",
              "      background-color: #E8F0FE;\n",
              "      border: none;\n",
              "      border-radius: 50%;\n",
              "      cursor: pointer;\n",
              "      display: none;\n",
              "      fill: #1967D2;\n",
              "      height: 32px;\n",
              "      padding: 0 0 0 0;\n",
              "      width: 32px;\n",
              "    }\n",
              "\n",
              "    .colab-df-convert:hover {\n",
              "      background-color: #E2EBFA;\n",
              "      box-shadow: 0px 1px 2px rgba(60, 64, 67, 0.3), 0px 1px 3px 1px rgba(60, 64, 67, 0.15);\n",
              "      fill: #174EA6;\n",
              "    }\n",
              "\n",
              "    [theme=dark] .colab-df-convert {\n",
              "      background-color: #3B4455;\n",
              "      fill: #D2E3FC;\n",
              "    }\n",
              "\n",
              "    [theme=dark] .colab-df-convert:hover {\n",
              "      background-color: #434B5C;\n",
              "      box-shadow: 0px 1px 3px 1px rgba(0, 0, 0, 0.15);\n",
              "      filter: drop-shadow(0px 1px 2px rgba(0, 0, 0, 0.3));\n",
              "      fill: #FFFFFF;\n",
              "    }\n",
              "  </style>\n",
              "\n",
              "      <script>\n",
              "        const buttonEl =\n",
              "          document.querySelector('#df-e2ea4c73-3738-4a01-b044-07bab2166429 button.colab-df-convert');\n",
              "        buttonEl.style.display =\n",
              "          google.colab.kernel.accessAllowed ? 'block' : 'none';\n",
              "\n",
              "        async function convertToInteractive(key) {\n",
              "          const element = document.querySelector('#df-e2ea4c73-3738-4a01-b044-07bab2166429');\n",
              "          const dataTable =\n",
              "            await google.colab.kernel.invokeFunction('convertToInteractive',\n",
              "                                                     [key], {});\n",
              "          if (!dataTable) return;\n",
              "\n",
              "          const docLinkHtml = 'Like what you see? Visit the ' +\n",
              "            '<a target=\"_blank\" href=https://colab.research.google.com/notebooks/data_table.ipynb>data table notebook</a>'\n",
              "            + ' to learn more about interactive tables.';\n",
              "          element.innerHTML = '';\n",
              "          dataTable['output_type'] = 'display_data';\n",
              "          await google.colab.output.renderOutput(dataTable, element);\n",
              "          const docLink = document.createElement('div');\n",
              "          docLink.innerHTML = docLinkHtml;\n",
              "          element.appendChild(docLink);\n",
              "        }\n",
              "      </script>\n",
              "    </div>\n",
              "  </div>\n",
              "  "
            ],
            "text/plain": [
              "    0   1   2   3\n",
              "0  37  73  25  87\n",
              "1  56  24   7  27\n",
              "2  59  32  28  38"
            ]
          },
          "execution_count": 13,
          "metadata": {},
          "output_type": "execute_result"
        }
      ],
      "source": [
        "import pandas as pd\n",
        "import numpy as np\n",
        "M1=pd.DataFrame(np.random.randint(0,100,size=(3, 4)))\n",
        "M1.head()"
      ]
    },
    {
      "cell_type": "code",
      "execution_count": null,
      "metadata": {
        "colab": {
          "base_uri": "https://localhost:8080/",
          "height": 143
        },
        "id": "N_pX-yCuPJL6",
        "outputId": "cdf3c572-0904-4a4c-fb2a-e96b2a7aea83"
      },
      "outputs": [
        {
          "data": {
            "text/html": [
              "\n",
              "  <div id=\"df-5cbbec30-77dc-4a6c-b91b-945f638491b9\">\n",
              "    <div class=\"colab-df-container\">\n",
              "      <div>\n",
              "<style scoped>\n",
              "    .dataframe tbody tr th:only-of-type {\n",
              "        vertical-align: middle;\n",
              "    }\n",
              "\n",
              "    .dataframe tbody tr th {\n",
              "        vertical-align: top;\n",
              "    }\n",
              "\n",
              "    .dataframe thead th {\n",
              "        text-align: right;\n",
              "    }\n",
              "</style>\n",
              "<table border=\"1\" class=\"dataframe\">\n",
              "  <thead>\n",
              "    <tr style=\"text-align: right;\">\n",
              "      <th></th>\n",
              "      <th>A</th>\n",
              "      <th>B</th>\n",
              "      <th>C</th>\n",
              "      <th>D</th>\n",
              "    </tr>\n",
              "  </thead>\n",
              "  <tbody>\n",
              "    <tr>\n",
              "      <th>0</th>\n",
              "      <td>9</td>\n",
              "      <td>93</td>\n",
              "      <td>8</td>\n",
              "      <td>92</td>\n",
              "    </tr>\n",
              "    <tr>\n",
              "      <th>1</th>\n",
              "      <td>25</td>\n",
              "      <td>14</td>\n",
              "      <td>50</td>\n",
              "      <td>14</td>\n",
              "    </tr>\n",
              "    <tr>\n",
              "      <th>2</th>\n",
              "      <td>36</td>\n",
              "      <td>11</td>\n",
              "      <td>42</td>\n",
              "      <td>40</td>\n",
              "    </tr>\n",
              "  </tbody>\n",
              "</table>\n",
              "</div>\n",
              "      <button class=\"colab-df-convert\" onclick=\"convertToInteractive('df-5cbbec30-77dc-4a6c-b91b-945f638491b9')\"\n",
              "              title=\"Convert this dataframe to an interactive table.\"\n",
              "              style=\"display:none;\">\n",
              "        \n",
              "  <svg xmlns=\"http://www.w3.org/2000/svg\" height=\"24px\"viewBox=\"0 0 24 24\"\n",
              "       width=\"24px\">\n",
              "    <path d=\"M0 0h24v24H0V0z\" fill=\"none\"/>\n",
              "    <path d=\"M18.56 5.44l.94 2.06.94-2.06 2.06-.94-2.06-.94-.94-2.06-.94 2.06-2.06.94zm-11 1L8.5 8.5l.94-2.06 2.06-.94-2.06-.94L8.5 2.5l-.94 2.06-2.06.94zm10 10l.94 2.06.94-2.06 2.06-.94-2.06-.94-.94-2.06-.94 2.06-2.06.94z\"/><path d=\"M17.41 7.96l-1.37-1.37c-.4-.4-.92-.59-1.43-.59-.52 0-1.04.2-1.43.59L10.3 9.45l-7.72 7.72c-.78.78-.78 2.05 0 2.83L4 21.41c.39.39.9.59 1.41.59.51 0 1.02-.2 1.41-.59l7.78-7.78 2.81-2.81c.8-.78.8-2.07 0-2.86zM5.41 20L4 18.59l7.72-7.72 1.47 1.35L5.41 20z\"/>\n",
              "  </svg>\n",
              "      </button>\n",
              "      \n",
              "  <style>\n",
              "    .colab-df-container {\n",
              "      display:flex;\n",
              "      flex-wrap:wrap;\n",
              "      gap: 12px;\n",
              "    }\n",
              "\n",
              "    .colab-df-convert {\n",
              "      background-color: #E8F0FE;\n",
              "      border: none;\n",
              "      border-radius: 50%;\n",
              "      cursor: pointer;\n",
              "      display: none;\n",
              "      fill: #1967D2;\n",
              "      height: 32px;\n",
              "      padding: 0 0 0 0;\n",
              "      width: 32px;\n",
              "    }\n",
              "\n",
              "    .colab-df-convert:hover {\n",
              "      background-color: #E2EBFA;\n",
              "      box-shadow: 0px 1px 2px rgba(60, 64, 67, 0.3), 0px 1px 3px 1px rgba(60, 64, 67, 0.15);\n",
              "      fill: #174EA6;\n",
              "    }\n",
              "\n",
              "    [theme=dark] .colab-df-convert {\n",
              "      background-color: #3B4455;\n",
              "      fill: #D2E3FC;\n",
              "    }\n",
              "\n",
              "    [theme=dark] .colab-df-convert:hover {\n",
              "      background-color: #434B5C;\n",
              "      box-shadow: 0px 1px 3px 1px rgba(0, 0, 0, 0.15);\n",
              "      filter: drop-shadow(0px 1px 2px rgba(0, 0, 0, 0.3));\n",
              "      fill: #FFFFFF;\n",
              "    }\n",
              "  </style>\n",
              "\n",
              "      <script>\n",
              "        const buttonEl =\n",
              "          document.querySelector('#df-5cbbec30-77dc-4a6c-b91b-945f638491b9 button.colab-df-convert');\n",
              "        buttonEl.style.display =\n",
              "          google.colab.kernel.accessAllowed ? 'block' : 'none';\n",
              "\n",
              "        async function convertToInteractive(key) {\n",
              "          const element = document.querySelector('#df-5cbbec30-77dc-4a6c-b91b-945f638491b9');\n",
              "          const dataTable =\n",
              "            await google.colab.kernel.invokeFunction('convertToInteractive',\n",
              "                                                     [key], {});\n",
              "          if (!dataTable) return;\n",
              "\n",
              "          const docLinkHtml = 'Like what you see? Visit the ' +\n",
              "            '<a target=\"_blank\" href=https://colab.research.google.com/notebooks/data_table.ipynb>data table notebook</a>'\n",
              "            + ' to learn more about interactive tables.';\n",
              "          element.innerHTML = '';\n",
              "          dataTable['output_type'] = 'display_data';\n",
              "          await google.colab.output.renderOutput(dataTable, element);\n",
              "          const docLink = document.createElement('div');\n",
              "          docLink.innerHTML = docLinkHtml;\n",
              "          element.appendChild(docLink);\n",
              "        }\n",
              "      </script>\n",
              "    </div>\n",
              "  </div>\n",
              "  "
            ],
            "text/plain": [
              "    A   B   C   D\n",
              "0   9  93   8  92\n",
              "1  25  14  50  14\n",
              "2  36  11  42  40"
            ]
          },
          "execution_count": 14,
          "metadata": {},
          "output_type": "execute_result"
        }
      ],
      "source": [
        "import pandas as pd\n",
        "import numpy as np\n",
        "M2=pd.DataFrame(np.random.randint(0,100,size=(3, 4)), columns=list('ABCD'))\n",
        "M2.head()"
      ]
    },
    {
      "cell_type": "code",
      "execution_count": null,
      "metadata": {
        "colab": {
          "base_uri": "https://localhost:8080/"
        },
        "id": "V7aTgB9ZPZa7",
        "outputId": "0af30f10-c3e7-4076-ce55-02e0397e6693"
      },
      "outputs": [
        {
          "name": "stdout",
          "output_type": "stream",
          "text": [
            "   id    name  age\n",
            "0   2  Vishal   22\n",
            "1   1  Kushal   25\n",
            "2   1    Aman   24\n"
          ]
        }
      ],
      "source": [
        "#list to dataframe\n",
        "lists = [[2, 'Vishal', 22],\n",
        "         [1, 'Kushal', 25],\n",
        "         [1, 'Aman', 24]]\n",
        "\n",
        "dataframe = pd.DataFrame(lists, columns = ['id', 'name', 'age'])\n",
        "\n",
        "print(dataframe)"
      ]
    },
    {
      "cell_type": "markdown",
      "metadata": {
        "id": "i0NP9977PydO"
      },
      "source": [
        "# Load a dataset"
      ]
    },
    {
      "cell_type": "code",
      "execution_count": 6,
      "metadata": {
        "colab": {
          "base_uri": "https://localhost:8080/"
        },
        "id": "uru2SpWmQJkI",
        "outputId": "f937d060-31de-488a-9524-d8bb06cd6775"
      },
      "outputs": [
        {
          "output_type": "stream",
          "name": "stdout",
          "text": [
            "Mounted at /content/gdrive\n"
          ]
        }
      ],
      "source": [
        "from google.colab import drive\n",
        "drive.mount('/content/gdrive')"
      ]
    },
    {
      "cell_type": "code",
      "execution_count": 8,
      "metadata": {
        "id": "ekRXkzgkQS0n",
        "colab": {
          "base_uri": "https://localhost:8080/"
        },
        "outputId": "8084b6a7-fc00-4e3a-fc76-2c159ba9cf4f"
      },
      "outputs": [
        {
          "output_type": "stream",
          "name": "stdout",
          "text": [
            "/content/gdrive/My Drive/Colab Notebooks\n"
          ]
        }
      ],
      "source": [
        "cd /content/gdrive/My Drive/Colab Notebooks"
      ]
    },
    {
      "cell_type": "code",
      "execution_count": 9,
      "metadata": {
        "id": "hhyROMASQbvB",
        "colab": {
          "base_uri": "https://localhost:8080/"
        },
        "outputId": "c3fe4ccb-7f06-41f9-b4ca-97783ebdb2d8"
      },
      "outputs": [
        {
          "output_type": "stream",
          "name": "stdout",
          "text": [
            "Iris.csv  Lab1_numpy.ipynb  Lab2_pandas.ipynb\n"
          ]
        }
      ],
      "source": [
        "ls"
      ]
    },
    {
      "cell_type": "code",
      "execution_count": 10,
      "metadata": {
        "colab": {
          "base_uri": "https://localhost:8080/",
          "height": 206
        },
        "id": "6fUVjA3xQcZV",
        "outputId": "d6b6759d-b7ed-4a3d-ed72-83afc94cbe1f"
      },
      "outputs": [
        {
          "output_type": "execute_result",
          "data": {
            "text/plain": [
              "   Id  SepalLengthCm  SepalWidthCm  PetalLengthCm  PetalWidthCm      Species\n",
              "0   1            5.1           3.5            1.4           0.2  Iris-setosa\n",
              "1   2            4.9           3.0            1.4           0.2  Iris-setosa\n",
              "2   3            4.7           3.2            1.3           0.2  Iris-setosa\n",
              "3   4            4.6           3.1            1.5           0.2  Iris-setosa\n",
              "4   5            5.0           3.6            1.4           0.2  Iris-setosa"
            ],
            "text/html": [
              "\n",
              "  <div id=\"df-23c647e2-de9a-4f53-a6f1-8c9d0df69bdf\">\n",
              "    <div class=\"colab-df-container\">\n",
              "      <div>\n",
              "<style scoped>\n",
              "    .dataframe tbody tr th:only-of-type {\n",
              "        vertical-align: middle;\n",
              "    }\n",
              "\n",
              "    .dataframe tbody tr th {\n",
              "        vertical-align: top;\n",
              "    }\n",
              "\n",
              "    .dataframe thead th {\n",
              "        text-align: right;\n",
              "    }\n",
              "</style>\n",
              "<table border=\"1\" class=\"dataframe\">\n",
              "  <thead>\n",
              "    <tr style=\"text-align: right;\">\n",
              "      <th></th>\n",
              "      <th>Id</th>\n",
              "      <th>SepalLengthCm</th>\n",
              "      <th>SepalWidthCm</th>\n",
              "      <th>PetalLengthCm</th>\n",
              "      <th>PetalWidthCm</th>\n",
              "      <th>Species</th>\n",
              "    </tr>\n",
              "  </thead>\n",
              "  <tbody>\n",
              "    <tr>\n",
              "      <th>0</th>\n",
              "      <td>1</td>\n",
              "      <td>5.1</td>\n",
              "      <td>3.5</td>\n",
              "      <td>1.4</td>\n",
              "      <td>0.2</td>\n",
              "      <td>Iris-setosa</td>\n",
              "    </tr>\n",
              "    <tr>\n",
              "      <th>1</th>\n",
              "      <td>2</td>\n",
              "      <td>4.9</td>\n",
              "      <td>3.0</td>\n",
              "      <td>1.4</td>\n",
              "      <td>0.2</td>\n",
              "      <td>Iris-setosa</td>\n",
              "    </tr>\n",
              "    <tr>\n",
              "      <th>2</th>\n",
              "      <td>3</td>\n",
              "      <td>4.7</td>\n",
              "      <td>3.2</td>\n",
              "      <td>1.3</td>\n",
              "      <td>0.2</td>\n",
              "      <td>Iris-setosa</td>\n",
              "    </tr>\n",
              "    <tr>\n",
              "      <th>3</th>\n",
              "      <td>4</td>\n",
              "      <td>4.6</td>\n",
              "      <td>3.1</td>\n",
              "      <td>1.5</td>\n",
              "      <td>0.2</td>\n",
              "      <td>Iris-setosa</td>\n",
              "    </tr>\n",
              "    <tr>\n",
              "      <th>4</th>\n",
              "      <td>5</td>\n",
              "      <td>5.0</td>\n",
              "      <td>3.6</td>\n",
              "      <td>1.4</td>\n",
              "      <td>0.2</td>\n",
              "      <td>Iris-setosa</td>\n",
              "    </tr>\n",
              "  </tbody>\n",
              "</table>\n",
              "</div>\n",
              "      <button class=\"colab-df-convert\" onclick=\"convertToInteractive('df-23c647e2-de9a-4f53-a6f1-8c9d0df69bdf')\"\n",
              "              title=\"Convert this dataframe to an interactive table.\"\n",
              "              style=\"display:none;\">\n",
              "        \n",
              "  <svg xmlns=\"http://www.w3.org/2000/svg\" height=\"24px\"viewBox=\"0 0 24 24\"\n",
              "       width=\"24px\">\n",
              "    <path d=\"M0 0h24v24H0V0z\" fill=\"none\"/>\n",
              "    <path d=\"M18.56 5.44l.94 2.06.94-2.06 2.06-.94-2.06-.94-.94-2.06-.94 2.06-2.06.94zm-11 1L8.5 8.5l.94-2.06 2.06-.94-2.06-.94L8.5 2.5l-.94 2.06-2.06.94zm10 10l.94 2.06.94-2.06 2.06-.94-2.06-.94-.94-2.06-.94 2.06-2.06.94z\"/><path d=\"M17.41 7.96l-1.37-1.37c-.4-.4-.92-.59-1.43-.59-.52 0-1.04.2-1.43.59L10.3 9.45l-7.72 7.72c-.78.78-.78 2.05 0 2.83L4 21.41c.39.39.9.59 1.41.59.51 0 1.02-.2 1.41-.59l7.78-7.78 2.81-2.81c.8-.78.8-2.07 0-2.86zM5.41 20L4 18.59l7.72-7.72 1.47 1.35L5.41 20z\"/>\n",
              "  </svg>\n",
              "      </button>\n",
              "      \n",
              "  <style>\n",
              "    .colab-df-container {\n",
              "      display:flex;\n",
              "      flex-wrap:wrap;\n",
              "      gap: 12px;\n",
              "    }\n",
              "\n",
              "    .colab-df-convert {\n",
              "      background-color: #E8F0FE;\n",
              "      border: none;\n",
              "      border-radius: 50%;\n",
              "      cursor: pointer;\n",
              "      display: none;\n",
              "      fill: #1967D2;\n",
              "      height: 32px;\n",
              "      padding: 0 0 0 0;\n",
              "      width: 32px;\n",
              "    }\n",
              "\n",
              "    .colab-df-convert:hover {\n",
              "      background-color: #E2EBFA;\n",
              "      box-shadow: 0px 1px 2px rgba(60, 64, 67, 0.3), 0px 1px 3px 1px rgba(60, 64, 67, 0.15);\n",
              "      fill: #174EA6;\n",
              "    }\n",
              "\n",
              "    [theme=dark] .colab-df-convert {\n",
              "      background-color: #3B4455;\n",
              "      fill: #D2E3FC;\n",
              "    }\n",
              "\n",
              "    [theme=dark] .colab-df-convert:hover {\n",
              "      background-color: #434B5C;\n",
              "      box-shadow: 0px 1px 3px 1px rgba(0, 0, 0, 0.15);\n",
              "      filter: drop-shadow(0px 1px 2px rgba(0, 0, 0, 0.3));\n",
              "      fill: #FFFFFF;\n",
              "    }\n",
              "  </style>\n",
              "\n",
              "      <script>\n",
              "        const buttonEl =\n",
              "          document.querySelector('#df-23c647e2-de9a-4f53-a6f1-8c9d0df69bdf button.colab-df-convert');\n",
              "        buttonEl.style.display =\n",
              "          google.colab.kernel.accessAllowed ? 'block' : 'none';\n",
              "\n",
              "        async function convertToInteractive(key) {\n",
              "          const element = document.querySelector('#df-23c647e2-de9a-4f53-a6f1-8c9d0df69bdf');\n",
              "          const dataTable =\n",
              "            await google.colab.kernel.invokeFunction('convertToInteractive',\n",
              "                                                     [key], {});\n",
              "          if (!dataTable) return;\n",
              "\n",
              "          const docLinkHtml = 'Like what you see? Visit the ' +\n",
              "            '<a target=\"_blank\" href=https://colab.research.google.com/notebooks/data_table.ipynb>data table notebook</a>'\n",
              "            + ' to learn more about interactive tables.';\n",
              "          element.innerHTML = '';\n",
              "          dataTable['output_type'] = 'display_data';\n",
              "          await google.colab.output.renderOutput(dataTable, element);\n",
              "          const docLink = document.createElement('div');\n",
              "          docLink.innerHTML = docLinkHtml;\n",
              "          element.appendChild(docLink);\n",
              "        }\n",
              "      </script>\n",
              "    </div>\n",
              "  </div>\n",
              "  "
            ]
          },
          "metadata": {},
          "execution_count": 10
        }
      ],
      "source": [
        "import pandas as pd\n",
        "data=pd.read_csv('Iris.csv')\n",
        "data.head()"
      ]
    },
    {
      "cell_type": "code",
      "execution_count": null,
      "metadata": {
        "colab": {
          "base_uri": "https://localhost:8080/"
        },
        "id": "W6T_95XcQ0H6",
        "outputId": "548de1ef-59da-4911-8868-aa235f494c5a"
      },
      "outputs": [
        {
          "name": "stdout",
          "output_type": "stream",
          "text": [
            "      Id  SepalLengthCm  SepalWidthCm  PetalLengthCm\n",
            "0      1            5.1           3.5            1.4\n",
            "1      2            4.9           3.0            1.4\n",
            "2      3            4.7           3.2            1.3\n",
            "3      4            4.6           3.1            1.5\n",
            "4      5            5.0           3.6            1.4\n",
            "..   ...            ...           ...            ...\n",
            "145  146            6.7           3.0            5.2\n",
            "146  147            6.3           2.5            5.0\n",
            "147  148            6.5           3.0            5.2\n",
            "148  149            6.2           3.4            5.4\n",
            "149  150            5.9           3.0            5.1\n",
            "\n",
            "[150 rows x 4 columns]\n",
            "            Species\n",
            "0       Iris-setosa\n",
            "1       Iris-setosa\n",
            "2       Iris-setosa\n",
            "3       Iris-setosa\n",
            "4       Iris-setosa\n",
            "..              ...\n",
            "145  Iris-virginica\n",
            "146  Iris-virginica\n",
            "147  Iris-virginica\n",
            "148  Iris-virginica\n",
            "149  Iris-virginica\n",
            "\n",
            "[150 rows x 1 columns]\n"
          ]
        }
      ],
      "source": [
        "X = data.iloc[:, 0:4]\n",
        "print(X)\n",
        "y = data.select_dtypes(include=[object])\n",
        "print(y)"
      ]
    },
    {
      "cell_type": "markdown",
      "metadata": {
        "id": "iW_F4pheebbu"
      },
      "source": [
        "# Exercises"
      ]
    },
    {
      "cell_type": "markdown",
      "metadata": {
        "id": "h1WDRfwUf9QL"
      },
      "source": [
        "1. Print all the features of the dataset.\n",
        "2. Print shape of the dataset (rows and columns)\n",
        "3. Print the shape of the dataset\n",
        "4. Count number of distinct elements in species (i.e. the 3 different classes )\n",
        "  also count the number of samples in each of three classes\n",
        "5. Checking if there is any inconsistency in the DataSet. (use df.info())\n",
        "6. Extract all the rows pertaining to 'setosa' into a dataframe named as df_setosa. Similarly extract for  'versicolor', and 'virginica classes.\n"
      ]
    },
    {
      "cell_type": "markdown",
      "metadata": {
        "id": "XtNnPe2ZpiWs"
      },
      "source": [
        "1)"
      ]
    },
    {
      "cell_type": "code",
      "execution_count": 19,
      "metadata": {
        "colab": {
          "base_uri": "https://localhost:8080/"
        },
        "id": "6SKNpTFlq4kD",
        "outputId": "da64f068-ac8f-49e8-d0e3-7826ea4d5f06"
      },
      "outputs": [
        {
          "output_type": "stream",
          "name": "stdout",
          "text": [
            "      Id  SepalLengthCm  SepalWidthCm  PetalLengthCm  PetalWidthCm  \\\n",
            "0      1            5.1           3.5            1.4           0.2   \n",
            "1      2            4.9           3.0            1.4           0.2   \n",
            "2      3            4.7           3.2            1.3           0.2   \n",
            "3      4            4.6           3.1            1.5           0.2   \n",
            "4      5            5.0           3.6            1.4           0.2   \n",
            "..   ...            ...           ...            ...           ...   \n",
            "145  146            6.7           3.0            5.2           2.3   \n",
            "146  147            6.3           2.5            5.0           1.9   \n",
            "147  148            6.5           3.0            5.2           2.0   \n",
            "148  149            6.2           3.4            5.4           2.3   \n",
            "149  150            5.9           3.0            5.1           1.8   \n",
            "\n",
            "            Species  \n",
            "0       Iris-setosa  \n",
            "1       Iris-setosa  \n",
            "2       Iris-setosa  \n",
            "3       Iris-setosa  \n",
            "4       Iris-setosa  \n",
            "..              ...  \n",
            "145  Iris-virginica  \n",
            "146  Iris-virginica  \n",
            "147  Iris-virginica  \n",
            "148  Iris-virginica  \n",
            "149  Iris-virginica  \n",
            "\n",
            "[150 rows x 6 columns]\n"
          ]
        }
      ],
      "source": [
        "import pandas as pd\n",
        "import numpy as np\n",
        "data=pd.read_csv('Iris.csv')\n",
        "df=pd.DataFrame(data)\n",
        "print(df)"
      ]
    },
    {
      "cell_type": "markdown",
      "metadata": {
        "id": "TGpKYcTOEmzw"
      },
      "source": [
        "2)"
      ]
    },
    {
      "cell_type": "code",
      "execution_count": 23,
      "metadata": {
        "colab": {
          "base_uri": "https://localhost:8080/"
        },
        "id": "HYiVgrKxEojN",
        "outputId": "b9f4ce30-f4bd-4e7b-ca97-30c150f9dc76"
      },
      "outputs": [
        {
          "output_type": "stream",
          "name": "stdout",
          "text": [
            "\n",
            "Number of rows : 150\n",
            "\n",
            "Number of columns : 6\n"
          ]
        }
      ],
      "source": [
        "import pandas as pd\n",
        "import numpy as np\n",
        "df=pd.read_csv('Iris.csv')\n",
        "shape = df.shape\n",
        "print('\\nNumber of rows :', shape[0])\n",
        "print('\\nNumber of columns :', shape[1])"
      ]
    },
    {
      "cell_type": "markdown",
      "metadata": {
        "id": "WDNDEkDkEpsl"
      },
      "source": [
        "3)"
      ]
    },
    {
      "cell_type": "code",
      "execution_count": 22,
      "metadata": {
        "id": "X0DBg1uMEvnF",
        "colab": {
          "base_uri": "https://localhost:8080/"
        },
        "outputId": "a693bcf9-d319-44dd-a493-f53bcc7b58c0"
      },
      "outputs": [
        {
          "output_type": "stream",
          "name": "stdout",
          "text": [
            "Shape = (150, 6)\n"
          ]
        }
      ],
      "source": [
        "import pandas as pd\n",
        "import numpy as np\n",
        "df=pd.read_csv('Iris.csv')\n",
        "shape = df.shape\n",
        "print(\"Shape = {}\".format(shape))"
      ]
    },
    {
      "cell_type": "markdown",
      "metadata": {
        "id": "jXN4nb68Ev81"
      },
      "source": [
        "4)"
      ]
    },
    {
      "cell_type": "code",
      "execution_count": 26,
      "metadata": {
        "id": "gVIsLbttExyc",
        "colab": {
          "base_uri": "https://localhost:8080/"
        },
        "outputId": "3c372609-e78f-41d6-92db-130a1a124d96"
      },
      "outputs": [
        {
          "output_type": "stream",
          "name": "stdout",
          "text": [
            "3\n"
          ]
        }
      ],
      "source": [
        "import pandas as pd\n",
        "import numpy as np\n",
        "df=pd.read_csv('Iris.csv')\n",
        "df = pd.DataFrame(data)\n",
        "n = len(pd.unique(df['Species']))\n",
        "print(n)"
      ]
    },
    {
      "cell_type": "markdown",
      "metadata": {
        "id": "cKzNxCaIrL9E"
      },
      "source": [
        "5)"
      ]
    },
    {
      "cell_type": "code",
      "execution_count": null,
      "metadata": {
        "colab": {
          "base_uri": "https://localhost:8080/"
        },
        "id": "N9nznEhtrODD",
        "outputId": "52a6fabe-5966-484e-d794-3139095b6e53"
      },
      "outputs": [
        {
          "name": "stdout",
          "output_type": "stream",
          "text": [
            "<class 'pandas.core.frame.DataFrame'>\n",
            "RangeIndex: 150 entries, 0 to 149\n",
            "Data columns (total 6 columns):\n",
            " #   Column         Non-Null Count  Dtype  \n",
            "---  ------         --------------  -----  \n",
            " 0   Id             150 non-null    int64  \n",
            " 1   SepalLengthCm  150 non-null    float64\n",
            " 2   SepalWidthCm   150 non-null    float64\n",
            " 3   PetalLengthCm  150 non-null    float64\n",
            " 4   PetalWidthCm   150 non-null    float64\n",
            " 5   Species        150 non-null    object \n",
            "dtypes: float64(4), int64(1), object(1)\n",
            "memory usage: 7.2+ KB\n"
          ]
        }
      ],
      "source": [
        "import pandas as pd\n",
        "import numpy as np\n",
        "data=pd.read_csv('Iris.csv')\n",
        "data.info()"
      ]
    },
    {
      "cell_type": "markdown",
      "metadata": {
        "id": "9aOaYieHrf00"
      },
      "source": [
        "6)"
      ]
    },
    {
      "cell_type": "code",
      "execution_count": 28,
      "metadata": {
        "colab": {
          "base_uri": "https://localhost:8080/"
        },
        "id": "lJ3cubCXrdpU",
        "outputId": "fba9fd87-b35a-412e-ddda-c2b8ef0ad943"
      },
      "outputs": [
        {
          "output_type": "stream",
          "name": "stdout",
          "text": [
            "    Id  SepalLengthCm  SepalWidthCm  PetalLengthCm  PetalWidthCm      Species\n",
            "0    1            5.1           3.5            1.4           0.2  Iris-setosa\n",
            "1    2            4.9           3.0            1.4           0.2  Iris-setosa\n",
            "2    3            4.7           3.2            1.3           0.2  Iris-setosa\n",
            "3    4            4.6           3.1            1.5           0.2  Iris-setosa\n",
            "4    5            5.0           3.6            1.4           0.2  Iris-setosa\n",
            "5    6            5.4           3.9            1.7           0.4  Iris-setosa\n",
            "6    7            4.6           3.4            1.4           0.3  Iris-setosa\n",
            "7    8            5.0           3.4            1.5           0.2  Iris-setosa\n",
            "8    9            4.4           2.9            1.4           0.2  Iris-setosa\n",
            "9   10            4.9           3.1            1.5           0.1  Iris-setosa\n",
            "10  11            5.4           3.7            1.5           0.2  Iris-setosa\n",
            "11  12            4.8           3.4            1.6           0.2  Iris-setosa\n",
            "12  13            4.8           3.0            1.4           0.1  Iris-setosa\n",
            "13  14            4.3           3.0            1.1           0.1  Iris-setosa\n",
            "14  15            5.8           4.0            1.2           0.2  Iris-setosa\n",
            "15  16            5.7           4.4            1.5           0.4  Iris-setosa\n",
            "16  17            5.4           3.9            1.3           0.4  Iris-setosa\n",
            "17  18            5.1           3.5            1.4           0.3  Iris-setosa\n",
            "18  19            5.7           3.8            1.7           0.3  Iris-setosa\n",
            "19  20            5.1           3.8            1.5           0.3  Iris-setosa\n",
            "20  21            5.4           3.4            1.7           0.2  Iris-setosa\n",
            "21  22            5.1           3.7            1.5           0.4  Iris-setosa\n",
            "22  23            4.6           3.6            1.0           0.2  Iris-setosa\n",
            "23  24            5.1           3.3            1.7           0.5  Iris-setosa\n",
            "24  25            4.8           3.4            1.9           0.2  Iris-setosa\n",
            "25  26            5.0           3.0            1.6           0.2  Iris-setosa\n",
            "26  27            5.0           3.4            1.6           0.4  Iris-setosa\n",
            "27  28            5.2           3.5            1.5           0.2  Iris-setosa\n",
            "28  29            5.2           3.4            1.4           0.2  Iris-setosa\n",
            "29  30            4.7           3.2            1.6           0.2  Iris-setosa\n",
            "30  31            4.8           3.1            1.6           0.2  Iris-setosa\n",
            "31  32            5.4           3.4            1.5           0.4  Iris-setosa\n",
            "32  33            5.2           4.1            1.5           0.1  Iris-setosa\n",
            "33  34            5.5           4.2            1.4           0.2  Iris-setosa\n",
            "34  35            4.9           3.1            1.5           0.1  Iris-setosa\n",
            "35  36            5.0           3.2            1.2           0.2  Iris-setosa\n",
            "36  37            5.5           3.5            1.3           0.2  Iris-setosa\n",
            "37  38            4.9           3.1            1.5           0.1  Iris-setosa\n",
            "38  39            4.4           3.0            1.3           0.2  Iris-setosa\n",
            "39  40            5.1           3.4            1.5           0.2  Iris-setosa\n",
            "40  41            5.0           3.5            1.3           0.3  Iris-setosa\n",
            "41  42            4.5           2.3            1.3           0.3  Iris-setosa\n",
            "42  43            4.4           3.2            1.3           0.2  Iris-setosa\n",
            "43  44            5.0           3.5            1.6           0.6  Iris-setosa\n",
            "44  45            5.1           3.8            1.9           0.4  Iris-setosa\n",
            "45  46            4.8           3.0            1.4           0.3  Iris-setosa\n",
            "46  47            5.1           3.8            1.6           0.2  Iris-setosa\n",
            "47  48            4.6           3.2            1.4           0.2  Iris-setosa\n",
            "48  49            5.3           3.7            1.5           0.2  Iris-setosa\n",
            "49  50            5.0           3.3            1.4           0.2  Iris-setosa\n"
          ]
        }
      ],
      "source": [
        "data.iloc[5]\n",
        "df_setosa=data.loc[data[\"Species\"] == \"Iris-setosa\"]\n",
        "print(df_setosa)"
      ]
    },
    {
      "cell_type": "code",
      "source": [
        "data.iloc[5]\n",
        "df_setosa=data.loc[data[\"Species\"] == \"Iris-versicolor\"]\n",
        "print(df_setosa)"
      ],
      "metadata": {
        "colab": {
          "base_uri": "https://localhost:8080/"
        },
        "id": "4tbPgl_u_QtR",
        "outputId": "535faedc-2b02-48bd-d9fd-c75c8efef4e2"
      },
      "execution_count": 29,
      "outputs": [
        {
          "output_type": "stream",
          "name": "stdout",
          "text": [
            "     Id  SepalLengthCm  SepalWidthCm  PetalLengthCm  PetalWidthCm  \\\n",
            "50   51            7.0           3.2            4.7           1.4   \n",
            "51   52            6.4           3.2            4.5           1.5   \n",
            "52   53            6.9           3.1            4.9           1.5   \n",
            "53   54            5.5           2.3            4.0           1.3   \n",
            "54   55            6.5           2.8            4.6           1.5   \n",
            "55   56            5.7           2.8            4.5           1.3   \n",
            "56   57            6.3           3.3            4.7           1.6   \n",
            "57   58            4.9           2.4            3.3           1.0   \n",
            "58   59            6.6           2.9            4.6           1.3   \n",
            "59   60            5.2           2.7            3.9           1.4   \n",
            "60   61            5.0           2.0            3.5           1.0   \n",
            "61   62            5.9           3.0            4.2           1.5   \n",
            "62   63            6.0           2.2            4.0           1.0   \n",
            "63   64            6.1           2.9            4.7           1.4   \n",
            "64   65            5.6           2.9            3.6           1.3   \n",
            "65   66            6.7           3.1            4.4           1.4   \n",
            "66   67            5.6           3.0            4.5           1.5   \n",
            "67   68            5.8           2.7            4.1           1.0   \n",
            "68   69            6.2           2.2            4.5           1.5   \n",
            "69   70            5.6           2.5            3.9           1.1   \n",
            "70   71            5.9           3.2            4.8           1.8   \n",
            "71   72            6.1           2.8            4.0           1.3   \n",
            "72   73            6.3           2.5            4.9           1.5   \n",
            "73   74            6.1           2.8            4.7           1.2   \n",
            "74   75            6.4           2.9            4.3           1.3   \n",
            "75   76            6.6           3.0            4.4           1.4   \n",
            "76   77            6.8           2.8            4.8           1.4   \n",
            "77   78            6.7           3.0            5.0           1.7   \n",
            "78   79            6.0           2.9            4.5           1.5   \n",
            "79   80            5.7           2.6            3.5           1.0   \n",
            "80   81            5.5           2.4            3.8           1.1   \n",
            "81   82            5.5           2.4            3.7           1.0   \n",
            "82   83            5.8           2.7            3.9           1.2   \n",
            "83   84            6.0           2.7            5.1           1.6   \n",
            "84   85            5.4           3.0            4.5           1.5   \n",
            "85   86            6.0           3.4            4.5           1.6   \n",
            "86   87            6.7           3.1            4.7           1.5   \n",
            "87   88            6.3           2.3            4.4           1.3   \n",
            "88   89            5.6           3.0            4.1           1.3   \n",
            "89   90            5.5           2.5            4.0           1.3   \n",
            "90   91            5.5           2.6            4.4           1.2   \n",
            "91   92            6.1           3.0            4.6           1.4   \n",
            "92   93            5.8           2.6            4.0           1.2   \n",
            "93   94            5.0           2.3            3.3           1.0   \n",
            "94   95            5.6           2.7            4.2           1.3   \n",
            "95   96            5.7           3.0            4.2           1.2   \n",
            "96   97            5.7           2.9            4.2           1.3   \n",
            "97   98            6.2           2.9            4.3           1.3   \n",
            "98   99            5.1           2.5            3.0           1.1   \n",
            "99  100            5.7           2.8            4.1           1.3   \n",
            "\n",
            "            Species  \n",
            "50  Iris-versicolor  \n",
            "51  Iris-versicolor  \n",
            "52  Iris-versicolor  \n",
            "53  Iris-versicolor  \n",
            "54  Iris-versicolor  \n",
            "55  Iris-versicolor  \n",
            "56  Iris-versicolor  \n",
            "57  Iris-versicolor  \n",
            "58  Iris-versicolor  \n",
            "59  Iris-versicolor  \n",
            "60  Iris-versicolor  \n",
            "61  Iris-versicolor  \n",
            "62  Iris-versicolor  \n",
            "63  Iris-versicolor  \n",
            "64  Iris-versicolor  \n",
            "65  Iris-versicolor  \n",
            "66  Iris-versicolor  \n",
            "67  Iris-versicolor  \n",
            "68  Iris-versicolor  \n",
            "69  Iris-versicolor  \n",
            "70  Iris-versicolor  \n",
            "71  Iris-versicolor  \n",
            "72  Iris-versicolor  \n",
            "73  Iris-versicolor  \n",
            "74  Iris-versicolor  \n",
            "75  Iris-versicolor  \n",
            "76  Iris-versicolor  \n",
            "77  Iris-versicolor  \n",
            "78  Iris-versicolor  \n",
            "79  Iris-versicolor  \n",
            "80  Iris-versicolor  \n",
            "81  Iris-versicolor  \n",
            "82  Iris-versicolor  \n",
            "83  Iris-versicolor  \n",
            "84  Iris-versicolor  \n",
            "85  Iris-versicolor  \n",
            "86  Iris-versicolor  \n",
            "87  Iris-versicolor  \n",
            "88  Iris-versicolor  \n",
            "89  Iris-versicolor  \n",
            "90  Iris-versicolor  \n",
            "91  Iris-versicolor  \n",
            "92  Iris-versicolor  \n",
            "93  Iris-versicolor  \n",
            "94  Iris-versicolor  \n",
            "95  Iris-versicolor  \n",
            "96  Iris-versicolor  \n",
            "97  Iris-versicolor  \n",
            "98  Iris-versicolor  \n",
            "99  Iris-versicolor  \n"
          ]
        }
      ]
    },
    {
      "cell_type": "code",
      "source": [
        "data.iloc[5]\n",
        "df_setosa=data.loc[data[\"Species\"] == \"Iris-virginica\"]\n",
        "print(df_setosa)"
      ],
      "metadata": {
        "colab": {
          "base_uri": "https://localhost:8080/"
        },
        "id": "_fvAoWuL_VLA",
        "outputId": "affd1319-2008-4b5c-bad3-d0b719c3e583"
      },
      "execution_count": 30,
      "outputs": [
        {
          "output_type": "stream",
          "name": "stdout",
          "text": [
            "      Id  SepalLengthCm  SepalWidthCm  PetalLengthCm  PetalWidthCm  \\\n",
            "100  101            6.3           3.3            6.0           2.5   \n",
            "101  102            5.8           2.7            5.1           1.9   \n",
            "102  103            7.1           3.0            5.9           2.1   \n",
            "103  104            6.3           2.9            5.6           1.8   \n",
            "104  105            6.5           3.0            5.8           2.2   \n",
            "105  106            7.6           3.0            6.6           2.1   \n",
            "106  107            4.9           2.5            4.5           1.7   \n",
            "107  108            7.3           2.9            6.3           1.8   \n",
            "108  109            6.7           2.5            5.8           1.8   \n",
            "109  110            7.2           3.6            6.1           2.5   \n",
            "110  111            6.5           3.2            5.1           2.0   \n",
            "111  112            6.4           2.7            5.3           1.9   \n",
            "112  113            6.8           3.0            5.5           2.1   \n",
            "113  114            5.7           2.5            5.0           2.0   \n",
            "114  115            5.8           2.8            5.1           2.4   \n",
            "115  116            6.4           3.2            5.3           2.3   \n",
            "116  117            6.5           3.0            5.5           1.8   \n",
            "117  118            7.7           3.8            6.7           2.2   \n",
            "118  119            7.7           2.6            6.9           2.3   \n",
            "119  120            6.0           2.2            5.0           1.5   \n",
            "120  121            6.9           3.2            5.7           2.3   \n",
            "121  122            5.6           2.8            4.9           2.0   \n",
            "122  123            7.7           2.8            6.7           2.0   \n",
            "123  124            6.3           2.7            4.9           1.8   \n",
            "124  125            6.7           3.3            5.7           2.1   \n",
            "125  126            7.2           3.2            6.0           1.8   \n",
            "126  127            6.2           2.8            4.8           1.8   \n",
            "127  128            6.1           3.0            4.9           1.8   \n",
            "128  129            6.4           2.8            5.6           2.1   \n",
            "129  130            7.2           3.0            5.8           1.6   \n",
            "130  131            7.4           2.8            6.1           1.9   \n",
            "131  132            7.9           3.8            6.4           2.0   \n",
            "132  133            6.4           2.8            5.6           2.2   \n",
            "133  134            6.3           2.8            5.1           1.5   \n",
            "134  135            6.1           2.6            5.6           1.4   \n",
            "135  136            7.7           3.0            6.1           2.3   \n",
            "136  137            6.3           3.4            5.6           2.4   \n",
            "137  138            6.4           3.1            5.5           1.8   \n",
            "138  139            6.0           3.0            4.8           1.8   \n",
            "139  140            6.9           3.1            5.4           2.1   \n",
            "140  141            6.7           3.1            5.6           2.4   \n",
            "141  142            6.9           3.1            5.1           2.3   \n",
            "142  143            5.8           2.7            5.1           1.9   \n",
            "143  144            6.8           3.2            5.9           2.3   \n",
            "144  145            6.7           3.3            5.7           2.5   \n",
            "145  146            6.7           3.0            5.2           2.3   \n",
            "146  147            6.3           2.5            5.0           1.9   \n",
            "147  148            6.5           3.0            5.2           2.0   \n",
            "148  149            6.2           3.4            5.4           2.3   \n",
            "149  150            5.9           3.0            5.1           1.8   \n",
            "\n",
            "            Species  \n",
            "100  Iris-virginica  \n",
            "101  Iris-virginica  \n",
            "102  Iris-virginica  \n",
            "103  Iris-virginica  \n",
            "104  Iris-virginica  \n",
            "105  Iris-virginica  \n",
            "106  Iris-virginica  \n",
            "107  Iris-virginica  \n",
            "108  Iris-virginica  \n",
            "109  Iris-virginica  \n",
            "110  Iris-virginica  \n",
            "111  Iris-virginica  \n",
            "112  Iris-virginica  \n",
            "113  Iris-virginica  \n",
            "114  Iris-virginica  \n",
            "115  Iris-virginica  \n",
            "116  Iris-virginica  \n",
            "117  Iris-virginica  \n",
            "118  Iris-virginica  \n",
            "119  Iris-virginica  \n",
            "120  Iris-virginica  \n",
            "121  Iris-virginica  \n",
            "122  Iris-virginica  \n",
            "123  Iris-virginica  \n",
            "124  Iris-virginica  \n",
            "125  Iris-virginica  \n",
            "126  Iris-virginica  \n",
            "127  Iris-virginica  \n",
            "128  Iris-virginica  \n",
            "129  Iris-virginica  \n",
            "130  Iris-virginica  \n",
            "131  Iris-virginica  \n",
            "132  Iris-virginica  \n",
            "133  Iris-virginica  \n",
            "134  Iris-virginica  \n",
            "135  Iris-virginica  \n",
            "136  Iris-virginica  \n",
            "137  Iris-virginica  \n",
            "138  Iris-virginica  \n",
            "139  Iris-virginica  \n",
            "140  Iris-virginica  \n",
            "141  Iris-virginica  \n",
            "142  Iris-virginica  \n",
            "143  Iris-virginica  \n",
            "144  Iris-virginica  \n",
            "145  Iris-virginica  \n",
            "146  Iris-virginica  \n",
            "147  Iris-virginica  \n",
            "148  Iris-virginica  \n",
            "149  Iris-virginica  \n"
          ]
        }
      ]
    }
  ],
  "metadata": {
    "colab": {
      "provenance": []
    },
    "kernelspec": {
      "display_name": "Python 3",
      "name": "python3"
    },
    "language_info": {
      "name": "python"
    }
  },
  "nbformat": 4,
  "nbformat_minor": 0
}