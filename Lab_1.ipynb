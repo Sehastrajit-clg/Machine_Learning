{
  "nbformat": 4,
  "nbformat_minor": 0,
  "metadata": {
    "colab": {
      "provenance": []
    },
    "kernelspec": {
      "name": "python3",
      "display_name": "Python 3"
    },
    "language_info": {
      "name": "python"
    }
  },
  "cells": [
    {
      "cell_type": "markdown",
      "source": [
        "# **Exploratory Data Analysis (EDA)**\n",
        "*   Load a dataset\n",
        "*   statistical summaries\n",
        "*   data visualization\n",
        "\n",
        "\n",
        "\n",
        "\n"
      ],
      "metadata": {
        "id": "_VcEQiq0unSt"
      }
    },
    {
      "cell_type": "markdown",
      "source": [
        "# Python Libraries for EDA\n",
        "\n",
        "* numpy\n",
        "* pandas\n",
        "* matplotlib\n",
        "\n",
        "\n",
        "\n"
      ],
      "metadata": {
        "id": "YTQCoBTDvtR8"
      }
    },
    {
      "cell_type": "markdown",
      "source": [
        "# numpy\n",
        "NumPy is a library for the Python programming language, adding support for large, multi-dimensional arrays and matrices, along with a large collection of high-level mathematical functions to operate on these arrays"
      ],
      "metadata": {
        "id": "wHgLKC50wZlV"
      }
    },
    {
      "cell_type": "markdown",
      "source": [
        "# Array\n",
        "A numpy array is a grid of values, all of the same type, and is indexed by a tuple of nonnegative integers. The number of dimensions is the rank of the array; the shape of an array is a tuple of integers giving the size of the array along each dimension.\n",
        "\n",
        "In Numpy dimensions are called axes. The number of axes is rank. For example, the coordinates of a point in 3D space [1, 2, 1] is an array of rank 1, because it has one axis."
      ],
      "metadata": {
        "id": "TPrZXHYHw-g9"
      }
    },
    {
      "cell_type": "code",
      "execution_count": 33,
      "metadata": {
        "id": "QjxGlP1luVCz",
        "colab": {
          "base_uri": "https://localhost:8080/"
        },
        "outputId": "d6f67e5d-bde4-4922-d2e0-c1f6893428bc"
      },
      "outputs": [
        {
          "output_type": "stream",
          "name": "stdout",
          "text": [
            "<class 'numpy.ndarray'>\n",
            "[1 2 3]\n",
            "(3,)\n",
            "1 2 3\n",
            "[5 2 3]\n",
            "(2, 3)\n",
            "1 2 4\n"
          ]
        }
      ],
      "source": [
        "import numpy as np\n",
        "\n",
        "a = np.array([1, 2, 3])   # Create a 1-D (rank 1) array from a list\n",
        "print(type(a))            # Prints \"<class 'numpy.ndarray'>\"\n",
        "print(a)                  # Prints array a\n",
        "print(a.shape)            # Prints \"(3,)\"  i.e. 1 dimenion with 3 elements\n",
        "print(a[0], a[1], a[2])   # Prints \"1 2 3\"\n",
        "a[0] = 5                  # Change an element of the array\n",
        "print(a)                  # Prints \"[5, 2, 3]\"\n",
        "\n",
        "bmat = np.array([[1,2,3],[4,5,6]])    # Create a 2D (rank 2) array\n",
        "print(bmat.shape)                     # Prints \"(2, 3)\" 2 dimensions\n",
        "print(bmat[0, 0], bmat[0, 1], bmat[1, 0])   # Prints \"1 2 4\""
      ]
    },
    {
      "cell_type": "code",
      "source": [
        "#create a 3D array of shape (3,2,2) i.e 3 2 x 2 matrices\n"
      ],
      "metadata": {
        "id": "kGJrBCmA-0MJ"
      },
      "execution_count": 34,
      "outputs": []
    },
    {
      "cell_type": "code",
      "source": [
        "print(a.dtype)\n"
      ],
      "metadata": {
        "id": "yo2XJ0sToGEb",
        "colab": {
          "base_uri": "https://localhost:8080/"
        },
        "outputId": "78045f82-fd84-4e9c-b0b7-bc99a3abbc5a"
      },
      "execution_count": 35,
      "outputs": [
        {
          "output_type": "stream",
          "name": "stdout",
          "text": [
            "int64\n"
          ]
        }
      ]
    },
    {
      "cell_type": "code",
      "source": [
        "R=np.array([1.2,3.5])\n",
        "print(R.dtype)"
      ],
      "metadata": {
        "id": "4Fz-oypyoaDW",
        "colab": {
          "base_uri": "https://localhost:8080/"
        },
        "outputId": "e0ef4bc5-d579-40f4-ad40-af36bb632fb1"
      },
      "execution_count": 36,
      "outputs": [
        {
          "output_type": "stream",
          "name": "stdout",
          "text": [
            "float64\n"
          ]
        }
      ]
    },
    {
      "cell_type": "code",
      "source": [
        "#creating float array\n",
        "Y=np.array([1.4, 4.5],dtype=np.float64)\n",
        "print(type(Y))\n",
        "print(Y.dtype)\n",
        "Y1=np.array([1.4, 4.5],dtype=float)\n",
        "print(type(Y1))\n",
        "print(Y1.dtype)"
      ],
      "metadata": {
        "id": "_meSscfc_nZD",
        "colab": {
          "base_uri": "https://localhost:8080/"
        },
        "outputId": "4b8a0c5f-6748-4724-d902-afe62555576a"
      },
      "execution_count": 37,
      "outputs": [
        {
          "output_type": "stream",
          "name": "stdout",
          "text": [
            "<class 'numpy.ndarray'>\n",
            "float64\n",
            "<class 'numpy.ndarray'>\n",
            "float64\n"
          ]
        }
      ]
    },
    {
      "cell_type": "markdown",
      "source": [
        "Extracting specific elements from the array"
      ],
      "metadata": {
        "id": "xeb4BvlzAvlH"
      }
    },
    {
      "cell_type": "code",
      "source": [
        "Z=np.array([[1,2,3,11],[4,5,6,23],[7,8,9,56]])\n",
        "print(Z)\n",
        "print(Z[0][1])\n",
        "print(Z[0,:]) # prints first row\n",
        "#write code to print first column\n",
        "\n",
        "#write code to print submtarix first 2 rows and first 2 columns i.e [[1,2],[4,5]]\n",
        "\n"
      ],
      "metadata": {
        "id": "9Vj9BhGVA2Gu",
        "colab": {
          "base_uri": "https://localhost:8080/"
        },
        "outputId": "5eed3ef9-8ee4-4e4d-96af-b1d0ae3bc503"
      },
      "execution_count": 38,
      "outputs": [
        {
          "output_type": "stream",
          "name": "stdout",
          "text": [
            "[[ 1  2  3 11]\n",
            " [ 4  5  6 23]\n",
            " [ 7  8  9 56]]\n",
            "2\n",
            "[ 1  2  3 11]\n"
          ]
        }
      ]
    },
    {
      "cell_type": "code",
      "source": [
        "#print all non-zero elments from matrix H\n",
        "H=np.array([[1,0,3,0],[0,4,0,6],[0,7,8,9]])\n"
      ],
      "metadata": {
        "id": "v01FUHU2A2Em"
      },
      "execution_count": 39,
      "outputs": []
    },
    {
      "cell_type": "markdown",
      "source": [
        "Numpy also provides many functions to create arrays:"
      ],
      "metadata": {
        "id": "DoNsC3zoylgF"
      }
    },
    {
      "cell_type": "markdown",
      "source": [
        "# Array indexing\n",
        "Numpy offers several ways to index into arrays."
      ],
      "metadata": {
        "id": "CMAHXKQFy47U"
      }
    },
    {
      "cell_type": "code",
      "source": [
        "# Create the following 2-D array with shape (3, 4)\n",
        "# [[ 1  2  3  4]\n",
        "#  [ 5  6  7  8]\n",
        "#  [ 9 10 11 12]]\n",
        "a = np.array([[1,2,3,4],[5,6,7,8],[9,10,11,12]])\n",
        "\n",
        "#take slice of 0 to 2 from array a\n",
        "b = a[0:2]  #0 to 2\n",
        "print(b)\n",
        "# A slice of an array is a view into the same data, so modifying it\n",
        "# will modify the original array.\n",
        "print(a[0, 1])   # Prints \"2\"\n",
        "b[0, 0] = 77     # b[0, 0] is the same piece of data as a[0, 1]\n",
        "print(a[0, 1])   # Prints \"77\"\n",
        "print(a)"
      ],
      "metadata": {
        "colab": {
          "base_uri": "https://localhost:8080/"
        },
        "id": "M3NTCpqWzHj0",
        "outputId": "f7f70356-2e2a-45ff-ee91-f19363915cf7"
      },
      "execution_count": 40,
      "outputs": [
        {
          "output_type": "stream",
          "name": "stdout",
          "text": [
            "[[1 2 3 4]\n",
            " [5 6 7 8]]\n",
            "2\n",
            "2\n",
            "[[77  2  3  4]\n",
            " [ 5  6  7  8]\n",
            " [ 9 10 11 12]]\n"
          ]
        }
      ]
    },
    {
      "cell_type": "code",
      "source": [
        "# Create a new array from which we will select elements\n",
        "a = np.array([[1,2,3], [4,5,6], [7,8,9], [10, 11, 12]])\n",
        "\n",
        "print(a)  # prints \"array([[ 1,  2,  3],\n",
        "          #                [ 4,  5,  6],\n",
        "          #                [ 7,  8,  9],\n",
        "          #                [10, 11, 12]])\"\n",
        "\n",
        "# Create an array of indices\n",
        "b = np.array([0, 2, 0, 1])\n",
        "\n",
        "# Select one element from each row of a using the indices in b , hint : use arange\n",
        "print(a[0][0],a[1][2],a[2][0],a[3][1])  # Prints \"[ 1  6  7 11]\"\n",
        "\n"
      ],
      "metadata": {
        "id": "Z6GpkS03zlBT",
        "colab": {
          "base_uri": "https://localhost:8080/"
        },
        "outputId": "12e66f7a-c9e9-4279-a604-1db915ebc999"
      },
      "execution_count": 41,
      "outputs": [
        {
          "output_type": "stream",
          "name": "stdout",
          "text": [
            "[[ 1  2  3]\n",
            " [ 4  5  6]\n",
            " [ 7  8  9]\n",
            " [10 11 12]]\n",
            "1 6 7 11\n"
          ]
        }
      ]
    },
    {
      "cell_type": "code",
      "source": [
        "import numpy as np\n",
        "a = np.array([[1,2], [3, 4], [5, 6]])\n",
        "\n",
        "bool_idx = a[a>2]     #write your code here to Find the elements of a that are bigger than 2;          # this returns a numpy array of Booleans of the same\n",
        "                     # shape as a, where each slot of bool_idx tells\n",
        "c=0                     # whether that element of a is > 2.\n",
        "for i in range(0,2):\n",
        "  for j in range(0,1):\n",
        "    if(a[i][j] in bool_idx):\n",
        "      a[i][j]=True\n",
        "    else:\n",
        "      a[i][j]=False\n",
        "    c=c+1\n",
        "print(a)      # Prints \"[[False False]\n",
        "                     #          [ True  True]\n",
        "                     #          [ True  True]]\"\n",
        "\n",
        "# We use boolean array indexing to construct a rank 1 array\n",
        "# consisting of the elements of a corresponding to the True values\n",
        "# of bool_idx\n",
        "#print(a[bool_idx])  # Prints \"[3 4 5 6]\"\n",
        "\n",
        "# We canu do all of the above in a single concise statement:\n",
        "print(a[a > 2])     # Prints \"[3 4 5 6]\""
      ],
      "metadata": {
        "id": "p-JTNVcOzzHM",
        "colab": {
          "base_uri": "https://localhost:8080/"
        },
        "outputId": "71cdcce4-242d-4f75-9f1f-8042b3910341"
      },
      "execution_count": 42,
      "outputs": [
        {
          "output_type": "stream",
          "name": "stdout",
          "text": [
            "[[0 2]\n",
            " [1 4]\n",
            " [5 6]]\n",
            "[4 5 6]\n"
          ]
        }
      ]
    },
    {
      "cell_type": "markdown",
      "source": [
        "# Array Math"
      ],
      "metadata": {
        "id": "tJEbgltO0R5U"
      }
    },
    {
      "cell_type": "code",
      "source": [
        "X=np.array([1,2,3,4])\n",
        "X=X+2\n",
        "print(X)"
      ],
      "metadata": {
        "colab": {
          "base_uri": "https://localhost:8080/"
        },
        "id": "43KuOb27_QGW",
        "outputId": "a16dea10-9236-4ce9-a423-5a5370bc5958"
      },
      "execution_count": 43,
      "outputs": [
        {
          "output_type": "stream",
          "name": "stdout",
          "text": [
            "[3 4 5 6]\n"
          ]
        }
      ]
    },
    {
      "cell_type": "code",
      "source": [
        "x = np.array([[1,2],[3,4]], dtype=np.float64)\n",
        "y = np.array([[5,6],[7,8]], dtype=np.float64)\n",
        "\n",
        "# Elementwise sum; both produce the array\n",
        "# [[ 6.0  8.0]\n",
        "#  [10.0 12.0]]\n",
        "\n",
        "#write code here\n",
        "\n",
        "# Elementwise difference; both produce the array\n",
        "# [[-4.0 -4.0]\n",
        "#  [-4.0 -4.0]]\n",
        "\n",
        "#write code here\n",
        "\n",
        "# Elementwise product; both produce the array\n",
        "# [[ 5.0 12.0]\n",
        "#  [21.0 32.0]]\n",
        "\n",
        "#write code here\n",
        "\n",
        "\n",
        "# Elementwise square root; produces the array\n",
        "# [[ 1.          1.41421356]\n",
        "#  [ 1.73205081  2.        ]]\n",
        "#write your code here"
      ],
      "metadata": {
        "id": "cvMciGHi_NKQ"
      },
      "execution_count": 44,
      "outputs": []
    },
    {
      "cell_type": "markdown",
      "source": [
        " How to represent missing values and infinite?\n",
        "\n",
        " Missing values can be represented using np.nan object, while np.inf represents infinite. Let’s place some in arr2d."
      ],
      "metadata": {
        "id": "nDFkXUs9CZbd"
      }
    },
    {
      "cell_type": "code",
      "source": [
        "list2 = [[1, 2, 3, 4],[3, 4, 5, 6], [5, 6, 7, 8]]\n",
        "arr2 = np.array(list2, dtype='float')\n",
        "# Insert a nan and an inf\n",
        "arr2[1,1] = np.nan  # not a number\n",
        "arr2[1,2] = np.inf  # infinite\n",
        "arr2"
      ],
      "metadata": {
        "id": "wDlc1Q4GCD-u",
        "colab": {
          "base_uri": "https://localhost:8080/"
        },
        "outputId": "60a80ede-a232-436e-c8aa-d9e0f27692ee"
      },
      "execution_count": 20,
      "outputs": [
        {
          "output_type": "execute_result",
          "data": {
            "text/plain": [
              "array([[ 1.,  2.,  3.,  4.],\n",
              "       [ 3., nan, inf,  6.],\n",
              "       [ 5.,  6.,  7.,  8.]])"
            ]
          },
          "metadata": {},
          "execution_count": 20
        }
      ]
    },
    {
      "cell_type": "code",
      "source": [
        "# Replace nan and inf with -1. Don't use arr2 == np.nan\n",
        "missing_bool = np.isnan(arr2) | np.isinf(arr2)\n",
        "arr2[missing_bool] = -1\n",
        "arr2"
      ],
      "metadata": {
        "colab": {
          "base_uri": "https://localhost:8080/"
        },
        "id": "HyAClk7Kqocr",
        "outputId": "1422eec7-5caf-4d1a-dc0d-f8bb617d0b06"
      },
      "execution_count": 21,
      "outputs": [
        {
          "output_type": "execute_result",
          "data": {
            "text/plain": [
              "array([[ 1.,  2.,  3.,  4.],\n",
              "       [ 3., -1., -1.,  6.],\n",
              "       [ 5.,  6.,  7.,  8.]])"
            ]
          },
          "metadata": {},
          "execution_count": 21
        }
      ]
    },
    {
      "cell_type": "markdown",
      "source": [
        "# Compute mean, min, max on the ndarray?"
      ],
      "metadata": {
        "id": "tFRruyZqqvFl"
      }
    },
    {
      "cell_type": "code",
      "source": [
        "a = np.array([[1,2,3], [4,5,6], [7,8,9], [10, 11, 12]])\n",
        "print(\"Mean value is: \", a.mean())\n",
        "print(\"Max value is: \", a.max())\n",
        "print(\"Min value is: \", a.min())\n",
        "# Row wise and column wise min\n",
        "print(\"Column wise minimum: \", a[0:3,:].min())#write code) #use np.amin\n",
        "print(\"Row wise minimum: \", a[:,0:2].min())#write code)\n"
      ],
      "metadata": {
        "id": "N56CDsyArFHm",
        "colab": {
          "base_uri": "https://localhost:8080/"
        },
        "outputId": "c179edea-0e3b-4915-90b6-577404fc5bf2"
      },
      "execution_count": 30,
      "outputs": [
        {
          "output_type": "stream",
          "name": "stdout",
          "text": [
            "Mean value is:  6.5\n",
            "Max value is:  12\n",
            "Min value is:  1\n",
            "Column wise minimum:  1\n",
            "Row wise minimum:  1\n"
          ]
        }
      ]
    },
    {
      "cell_type": "markdown",
      "source": [
        "# Copy array"
      ],
      "metadata": {
        "id": "8sSGu3GGrjRi"
      }
    },
    {
      "cell_type": "code",
      "source": [
        "# Assign portion of arr2 to arr2a. Doesn't really create a new array.\n",
        "arr2 = arr2[:2,:2]\n",
        "arr2[:1, :1] = 100  # 100 will reflect in arr2\n",
        "arr2"
      ],
      "metadata": {
        "colab": {
          "base_uri": "https://localhost:8080/"
        },
        "id": "144CU-2crh_g",
        "outputId": "420fe61b-e605-46b5-d9d8-aa595d51276d"
      },
      "execution_count": 31,
      "outputs": [
        {
          "output_type": "execute_result",
          "data": {
            "text/plain": [
              "array([[100.,   2.],\n",
              "       [  3.,  -1.]])"
            ]
          },
          "metadata": {},
          "execution_count": 31
        }
      ]
    },
    {
      "cell_type": "code",
      "source": [
        "# Copy portion of arr2 to arr2b\n",
        "arr2b = arr2[:2, :2].copy()\n",
        "arr2b[:1, :1] = 101  # 101 will not reflect in arr2\n",
        "arr2"
      ],
      "metadata": {
        "colab": {
          "base_uri": "https://localhost:8080/"
        },
        "id": "Ie-suXBorrwJ",
        "outputId": "8c473cc3-62fc-4312-c062-d9bb84aba9d1"
      },
      "execution_count": 32,
      "outputs": [
        {
          "output_type": "execute_result",
          "data": {
            "text/plain": [
              "array([[100.,   2.],\n",
              "       [  3.,  -1.]])"
            ]
          },
          "metadata": {},
          "execution_count": 32
        }
      ]
    },
    {
      "cell_type": "markdown",
      "source": [
        "# Reshaping and Flattening Multidimensional arrays\n",
        "\n",
        "Reshaping is changing the arrangement of items so that shape of the array changes while maintaining the same number of dimensions.\n",
        "\n",
        "Flattening, however, will convert a multi-dimensional array to a flat 1d array. And not any other shape."
      ],
      "metadata": {
        "id": "nGSio9CWr_RK"
      }
    },
    {
      "cell_type": "code",
      "source": [
        "# Reshape a 3x4 array to 4x3 array\n",
        "arr2.reshape(4, 3)"
      ],
      "metadata": {
        "colab": {
          "base_uri": "https://localhost:8080/",
          "height": 189
        },
        "id": "0JKzIEykr-YD",
        "outputId": "b863b506-6c14-4f2d-e5d4-880b1ca6e990"
      },
      "execution_count": 45,
      "outputs": [
        {
          "output_type": "error",
          "ename": "ValueError",
          "evalue": "ignored",
          "traceback": [
            "\u001b[0;31m---------------------------------------------------------------------------\u001b[0m",
            "\u001b[0;31mValueError\u001b[0m                                Traceback (most recent call last)",
            "\u001b[0;32m<ipython-input-45-fea88075e73f>\u001b[0m in \u001b[0;36m<cell line: 2>\u001b[0;34m()\u001b[0m\n\u001b[1;32m      1\u001b[0m \u001b[0;31m# Reshape a 3x4 array to 4x3 array\u001b[0m\u001b[0;34m\u001b[0m\u001b[0;34m\u001b[0m\u001b[0m\n\u001b[0;32m----> 2\u001b[0;31m \u001b[0marr2\u001b[0m\u001b[0;34m.\u001b[0m\u001b[0mreshape\u001b[0m\u001b[0;34m(\u001b[0m\u001b[0;36m4\u001b[0m\u001b[0;34m,\u001b[0m \u001b[0;36m3\u001b[0m\u001b[0;34m)\u001b[0m\u001b[0;34m\u001b[0m\u001b[0;34m\u001b[0m\u001b[0m\n\u001b[0m",
            "\u001b[0;31mValueError\u001b[0m: cannot reshape array of size 4 into shape (4,3)"
          ]
        }
      ]
    },
    {
      "cell_type": "code",
      "source": [
        "# Flatten it to a 1d array\n",
        "arr2.flatten()"
      ],
      "metadata": {
        "colab": {
          "base_uri": "https://localhost:8080/",
          "height": 189
        },
        "id": "0HVloRFUscjS",
        "outputId": "17d63b0b-218a-4986-90fd-e5ec7c15a2fa"
      },
      "execution_count": 16,
      "outputs": [
        {
          "output_type": "error",
          "ename": "NameError",
          "evalue": "ignored",
          "traceback": [
            "\u001b[0;31m---------------------------------------------------------------------------\u001b[0m",
            "\u001b[0;31mNameError\u001b[0m                                 Traceback (most recent call last)",
            "\u001b[0;32m<ipython-input-16-346b6f42f60c>\u001b[0m in \u001b[0;36m<cell line: 2>\u001b[0;34m()\u001b[0m\n\u001b[1;32m      1\u001b[0m \u001b[0;31m# Flatten it to a 1d array\u001b[0m\u001b[0;34m\u001b[0m\u001b[0;34m\u001b[0m\u001b[0m\n\u001b[0;32m----> 2\u001b[0;31m \u001b[0marr2\u001b[0m\u001b[0;34m.\u001b[0m\u001b[0mflatten\u001b[0m\u001b[0;34m(\u001b[0m\u001b[0;34m)\u001b[0m\u001b[0;34m\u001b[0m\u001b[0;34m\u001b[0m\u001b[0m\n\u001b[0m",
            "\u001b[0;31mNameError\u001b[0m: name 'arr2' is not defined"
          ]
        }
      ]
    },
    {
      "cell_type": "markdown",
      "source": [
        "# Sequences, Random numbers\n",
        "The np.arange function comes handy to create customised number sequences as ndarray."
      ],
      "metadata": {
        "id": "RwXTfRj3sl_6"
      }
    },
    {
      "cell_type": "code",
      "source": [
        "# Lower limit is 0 be default\n",
        "print(np.arange(5))\n",
        "\n",
        "# 0 to 9\n",
        "print(np.arange(0, 10))\n",
        "\n",
        "# 0 to 9 with step of 2\n",
        "print(np.arange(0, 10, 2))\n",
        "\n",
        "# 10 to 1, decreasing order\n",
        "print(np.arange(10, 0, -1))"
      ],
      "metadata": {
        "colab": {
          "base_uri": "https://localhost:8080/"
        },
        "id": "NAQwojZ7sqNP",
        "outputId": "e5fc287b-0454-44f5-e385-b00e146596f0"
      },
      "execution_count": 15,
      "outputs": [
        {
          "output_type": "stream",
          "name": "stdout",
          "text": [
            "[0 1 2 3 4]\n",
            "[0 1 2 3 4 5 6 7 8 9]\n",
            "[0 2 4 6 8]\n",
            "[10  9  8  7  6  5  4  3  2  1]\n"
          ]
        }
      ]
    },
    {
      "cell_type": "code",
      "source": [
        "# One random number between [0,1)\n",
        "print(np.random.random())\n",
        "\n",
        "# Random numbers between [0,1) of shape 2,2\n",
        "print(np.random.random(size=[2,2]))"
      ],
      "metadata": {
        "colab": {
          "base_uri": "https://localhost:8080/"
        },
        "id": "H-KrcLpFtBO2",
        "outputId": "f7ed48b9-f3cd-4962-90e6-ca66b89e7b02"
      },
      "execution_count": 14,
      "outputs": [
        {
          "output_type": "stream",
          "name": "stdout",
          "text": [
            "0.21010774244258368\n",
            "[[0.4527399  0.87014264]\n",
            " [0.06368104 0.62431189]]\n"
          ]
        }
      ]
    },
    {
      "cell_type": "markdown",
      "source": [
        "# Get the unique items and the counts"
      ],
      "metadata": {
        "id": "23Z8d0B8thx8"
      }
    },
    {
      "cell_type": "code",
      "source": [
        "# Create random integers of size 10 between [0,10)\n",
        "np.random.seed(100)\n",
        "arr_rand = np.random.randint(0, 10, size=10)\n",
        "print(arr_rand)\n",
        "# Get the unique items and their counts\n",
        "uniqs, counts = np.unique(arr_rand, return_counts=True)\n",
        "print(\"Unique items : \", uniqs)\n",
        "print(\"Counts       : \", counts)"
      ],
      "metadata": {
        "colab": {
          "base_uri": "https://localhost:8080/"
        },
        "id": "F9QilKuOtkKD",
        "outputId": "31b98904-3265-4d05-c2d9-0d4093634da6"
      },
      "execution_count": 13,
      "outputs": [
        {
          "output_type": "stream",
          "name": "stdout",
          "text": [
            "[8 8 3 7 7 0 4 2 5 2]\n",
            "Unique items :  [0 2 3 4 5 7 8]\n",
            "Counts       :  [1 2 1 1 1 2 2]\n"
          ]
        }
      ]
    },
    {
      "cell_type": "markdown",
      "source": [
        "# Exercises"
      ],
      "metadata": {
        "id": "CPgoL1mpEabP"
      }
    },
    {
      "cell_type": "markdown",
      "source": [
        "1. Create two 3 x 4 arrays A and B; output an array in which every element is an element-wise sum of the arrays A and B"
      ],
      "metadata": {
        "id": "B-dLudJtEqpz"
      }
    },
    {
      "cell_type": "code",
      "source": [
        "import numpy as np\n",
        "A = np.array([[1, 2, 3, 4], [5, 6, 7, 8], [9, 10, 11, 12]])\n",
        "B = np.array([[13, 14, 15, 16], [17, 18, 19, 20], [21, 22, 23, 24]])\n",
        "C = A + B\n",
        "print(C)\n"
      ],
      "metadata": {
        "id": "WLhGCoxAEfDU",
        "colab": {
          "base_uri": "https://localhost:8080/"
        },
        "outputId": "4a622690-d222-4735-f05d-b0a918e4dd98"
      },
      "execution_count": 12,
      "outputs": [
        {
          "output_type": "stream",
          "name": "stdout",
          "text": [
            "[[14 16 18 20]\n",
            " [22 24 26 28]\n",
            " [30 32 34 36]]\n"
          ]
        }
      ]
    },
    {
      "cell_type": "markdown",
      "source": [
        "2. Create 4 x 4 identity matrix (use eye funciton)\n"
      ],
      "metadata": {
        "id": "XLE5uHe-FBcb"
      }
    },
    {
      "cell_type": "code",
      "source": [
        "import numpy as np\n",
        "a=np.eye(4,dtype=int)\n",
        "a"
      ],
      "metadata": {
        "id": "hfqCbz_xGcke",
        "colab": {
          "base_uri": "https://localhost:8080/"
        },
        "outputId": "6bc0847c-69b0-45f7-9062-402f8e49f507"
      },
      "execution_count": 10,
      "outputs": [
        {
          "output_type": "execute_result",
          "data": {
            "text/plain": [
              "array([[1, 0, 0, 0],\n",
              "       [0, 1, 0, 0],\n",
              "       [0, 0, 1, 0],\n",
              "       [0, 0, 0, 1]])"
            ]
          },
          "metadata": {},
          "execution_count": 10
        }
      ]
    },
    {
      "cell_type": "markdown",
      "source": [
        "3. create a 1D array whose values are from sequence 1 to 27. Convert this array into 3D array i.e. 3 x 3 x 3"
      ],
      "metadata": {
        "id": "i1fLyoaNFZdD"
      }
    },
    {
      "cell_type": "code",
      "source": [
        "#code for Ex3\n",
        "import numpy as np\n",
        "a=np.arange(1,28)\n",
        "x=a.reshape(3,3,3)\n",
        "print(x)"
      ],
      "metadata": {
        "id": "wBMF8QWYGhI5",
        "colab": {
          "base_uri": "https://localhost:8080/"
        },
        "outputId": "ae423a68-e4f0-4be7-8d7f-a99f9bdaca4a"
      },
      "execution_count": 8,
      "outputs": [
        {
          "output_type": "stream",
          "name": "stdout",
          "text": [
            "[[[ 1  2  3]\n",
            "  [ 4  5  6]\n",
            "  [ 7  8  9]]\n",
            "\n",
            " [[10 11 12]\n",
            "  [13 14 15]\n",
            "  [16 17 18]]\n",
            "\n",
            " [[19 20 21]\n",
            "  [22 23 24]\n",
            "  [25 26 27]]]\n"
          ]
        }
      ]
    },
    {
      "cell_type": "markdown",
      "source": [
        "4. create a 3 x 3 float array Z and concert Convert all the elements of Z from float to integer datatype"
      ],
      "metadata": {
        "id": "eE3VzRQiGFA6"
      }
    },
    {
      "cell_type": "code",
      "source": [
        "#code for Ex4\n",
        "a=np.array([[1.0,2.0,3.0],[4.0,5.0,6.0],[7.0,8.0,9.0]],dtype = float)\n",
        "b=np.array(a,dtype=int)\n",
        "print(b)\n"
      ],
      "metadata": {
        "id": "kq-OJQ2hGjvr",
        "colab": {
          "base_uri": "https://localhost:8080/"
        },
        "outputId": "33d970ed-8efa-4645-e73e-874f7c6ba46b"
      },
      "execution_count": 7,
      "outputs": [
        {
          "output_type": "stream",
          "name": "stdout",
          "text": [
            "[[1 2 3]\n",
            " [4 5 6]\n",
            " [7 8 9]]\n"
          ]
        }
      ]
    },
    {
      "cell_type": "markdown",
      "source": [
        "5. a1 = np.array([[1,2,3],\n",
        "               [4,5,6]])\n",
        "\n",
        "a2 = np.array([[7,8,9],\n",
        "               [10,11,12]])\n",
        "\n",
        "               stack a1 and a2 horizontally i.e. output array should be as follows\n",
        "               [[ 1  2  3  7  8  9]\n",
        "               [ 4  5  6 10 11 12]]"
      ],
      "metadata": {
        "id": "zkW7KK8uGagR"
      }
    },
    {
      "cell_type": "code",
      "source": [
        "import numpy as np\n",
        "\n",
        "a1 = np.array([[1,2,3],\n",
        "               [4,5,6]])\n",
        "\n",
        "a2 = np.array([[7,8,9],\n",
        "               [10,11,12]])\n",
        "\n",
        "result = np.hstack((a1, a2))\n",
        "\n",
        "print(result)\n"
      ],
      "metadata": {
        "id": "g2aqOngYG1NP",
        "colab": {
          "base_uri": "https://localhost:8080/"
        },
        "outputId": "9990a092-a09a-4118-fd5c-711ba4cdfbd0"
      },
      "execution_count": 6,
      "outputs": [
        {
          "output_type": "stream",
          "name": "stdout",
          "text": [
            "[[ 1  2  3  7  8  9]\n",
            " [ 4  5  6 10 11 12]]\n"
          ]
        }
      ]
    },
    {
      "cell_type": "markdown",
      "source": [
        "6. stack a1 and a2 vertically\n",
        "[[ 1  2]\n",
        " [ 3  4]\n",
        " [ 5  6]\n",
        " [ 7  8]\n",
        " [ 9 10]\n",
        " [10 11]]"
      ],
      "metadata": {
        "id": "mVUmETuSG1-L"
      }
    },
    {
      "cell_type": "code",
      "source": [
        "import numpy as np\n",
        "\n",
        "a1 = np.array([[1,2],\n",
        "               [3,4],\n",
        "               [5,6]])\n",
        "\n",
        "a2 = np.array([[7,8],\n",
        "               [9,10],\n",
        "               [10,11]])\n",
        "\n",
        "result = np.vstack((a1, a2))\n",
        "\n",
        "print(result)\n"
      ],
      "metadata": {
        "id": "zOpEQenpHELE",
        "colab": {
          "base_uri": "https://localhost:8080/"
        },
        "outputId": "22b1a7d1-b3a9-44d0-e0cf-469d362bd88f"
      },
      "execution_count": 5,
      "outputs": [
        {
          "output_type": "stream",
          "name": "stdout",
          "text": [
            "[[ 1  2]\n",
            " [ 3  4]\n",
            " [ 5  6]\n",
            " [ 7  8]\n",
            " [ 9 10]\n",
            " [10 11]]\n"
          ]
        }
      ]
    },
    {
      "cell_type": "markdown",
      "source": [
        "7. Create a numpy array for the even number sequence from 1 to 100"
      ],
      "metadata": {
        "id": "j6sFEDAyJupL"
      }
    },
    {
      "cell_type": "code",
      "source": [
        "x=np.arange(2,101,2)\n",
        "print(x)"
      ],
      "metadata": {
        "id": "j5T_PtIfKDak",
        "colab": {
          "base_uri": "https://localhost:8080/"
        },
        "outputId": "b1778199-ec08-4e3a-a6e9-12eb3d52dbbc"
      },
      "execution_count": null,
      "outputs": [
        {
          "output_type": "stream",
          "name": "stdout",
          "text": [
            "[  2   4   6   8  10  12  14  16  18  20  22  24  26  28  30  32  34  36\n",
            "  38  40  42  44  46  48  50  52  54  56  58  60  62  64  66  68  70  72\n",
            "  74  76  78  80  82  84  86  88  90  92  94  96  98 100]\n"
          ]
        }
      ]
    },
    {
      "cell_type": "markdown",
      "source": [
        "8. Find the indexes in which the elements in the 2 arrays A1 and A2 match\n",
        "A1 = np.array([10,2,3,4,5])\n",
        "\n",
        "A2 = np.array([10,3,2,4,5])"
      ],
      "metadata": {
        "id": "qlO6xj3yKD4f"
      }
    },
    {
      "cell_type": "code",
      "source": [
        "import numpy as np\n",
        "\n",
        "A1 = np.array([10,2,3,4,5])\n",
        "A2 = np.array([10,3,2,4,5])\n",
        "\n",
        "match_indexes = np.where(A1 == A2)[0]\n",
        "\n",
        "print(match_indexes)\n"
      ],
      "metadata": {
        "id": "Dh-GbRveKiut",
        "colab": {
          "base_uri": "https://localhost:8080/"
        },
        "outputId": "8bc1cacc-5c55-4007-af47-7ea5d1931e01"
      },
      "execution_count": 4,
      "outputs": [
        {
          "output_type": "stream",
          "name": "stdout",
          "text": [
            "[0 3 4]\n"
          ]
        }
      ]
    },
    {
      "cell_type": "markdown",
      "source": [
        "9. create a 2-by-3 matrix with each and every value equal to 5"
      ],
      "metadata": {
        "id": "flB7ZgxhKjEf"
      }
    },
    {
      "cell_type": "code",
      "source": [
        "import numpy as np\n",
        "\n",
        "result = np.full((2, 3), 5)\n",
        "\n",
        "print(result)\n"
      ],
      "metadata": {
        "id": "YMzp-DbcKw5s",
        "colab": {
          "base_uri": "https://localhost:8080/"
        },
        "outputId": "cdb2a83b-3782-4ac7-b8bd-930092bd4376"
      },
      "execution_count": 1,
      "outputs": [
        {
          "output_type": "stream",
          "name": "stdout",
          "text": [
            "[[5 5 5]\n",
            " [5 5 5]]\n"
          ]
        }
      ]
    },
    {
      "cell_type": "markdown",
      "source": [
        "Output a 5-by-5 array of random integers between 0 (inclusive) and 10 (exclusive); Also print its transpose"
      ],
      "metadata": {
        "id": "zUcYJglNKxHN"
      }
    },
    {
      "cell_type": "code",
      "source": [
        "import numpy as np\n",
        "\n",
        "\n",
        "arr = np.random.randint(0, 10, size=(5, 5))\n",
        "\n",
        "print(\"Original array:\")\n",
        "print(arr)\n",
        "\n",
        "print(\"Transpose of the array:\")\n",
        "print(arr.T)\n"
      ],
      "metadata": {
        "id": "LHOQrz0_LEa1",
        "colab": {
          "base_uri": "https://localhost:8080/"
        },
        "outputId": "9a248423-d0e2-4012-c015-46d872bd1c96"
      },
      "execution_count": 2,
      "outputs": [
        {
          "output_type": "stream",
          "name": "stdout",
          "text": [
            "Original array:\n",
            "[[2 1 3 0 8]\n",
            " [3 0 1 1 1]\n",
            " [2 6 3 5 1]\n",
            " [9 4 2 0 7]\n",
            " [5 2 8 4 0]]\n",
            "Transpose of the array:\n",
            "[[2 3 2 9 5]\n",
            " [1 0 6 4 2]\n",
            " [3 1 3 2 8]\n",
            " [0 1 5 0 4]\n",
            " [8 1 1 7 0]]\n"
          ]
        }
      ]
    },
    {
      "cell_type": "markdown",
      "source": [
        "Output a 3-by-3 array of random numbers following normal distribution"
      ],
      "metadata": {
        "id": "kbVQhWs9LEvy"
      }
    },
    {
      "cell_type": "code",
      "source": [
        "import numpy as np\n",
        "arr = np.random.normal(size=(3, 3))\n",
        "print(arr)\n"
      ],
      "metadata": {
        "id": "6m2dLOaeLMOs",
        "colab": {
          "base_uri": "https://localhost:8080/"
        },
        "outputId": "fa020b60-86c3-4596-896d-99b7211420ed"
      },
      "execution_count": 3,
      "outputs": [
        {
          "output_type": "stream",
          "name": "stdout",
          "text": [
            "[[-0.27740734 -0.76587762  1.90023084]\n",
            " [-0.36599    -0.55691285  1.52779903]\n",
            " [ 0.51927943  0.07266635 -0.11232108]]\n"
          ]
        }
      ]
    }
  ]
}
